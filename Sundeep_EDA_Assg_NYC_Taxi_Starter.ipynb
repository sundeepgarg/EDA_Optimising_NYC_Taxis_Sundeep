{
  "cells": [
    {
      "cell_type": "markdown",
      "metadata": {
        "id": "view-in-github",
        "colab_type": "text"
      },
      "source": [
        "<a href=\"https://colab.research.google.com/github/sundeepgarg/EDA_Optimising_NYC_Taxis_Sundeep/blob/main/Sundeep_EDA_Assg_NYC_Taxi_Starter.ipynb\" target=\"_parent\"><img src=\"https://colab.research.google.com/assets/colab-badge.svg\" alt=\"Open In Colab\"/></a>"
      ]
    },
    {
      "cell_type": "markdown",
      "metadata": {
        "id": "ZQl5n2IOuafL"
      },
      "source": [
        "# **New York City Yellow Taxi Data**"
      ]
    },
    {
      "cell_type": "markdown",
      "metadata": {
        "id": "DGQVIB4mEFrZ"
      },
      "source": [
        "## Objective\n",
        "In this case study you will be learning exploratory data analysis (EDA) with the help of a dataset on yellow taxi rides in New York City. This will enable you to understand why EDA is an important step in the process of data science and machine learning."
      ]
    },
    {
      "cell_type": "code",
      "source": [],
      "metadata": {
        "id": "sENcfVM8O5dN"
      },
      "execution_count": null,
      "outputs": []
    },
    {
      "cell_type": "markdown",
      "metadata": {
        "id": "YJVMenVllLUL"
      },
      "source": [
        "## **Problem Statement**\n",
        "As an analyst at an upcoming taxi operation in NYC, you are tasked to use the 2023 taxi trip data to uncover insights that could help optimise taxi operations. The goal is to analyse patterns in the data that can inform strategic decisions to improve service efficiency, maximise revenue, and enhance passenger experience."
      ]
    },
    {
      "cell_type": "markdown",
      "metadata": {
        "id": "-OVfUMlHFkZD"
      },
      "source": [
        "## Tasks\n",
        "You need to perform the following steps for successfully completing this assignment:\n",
        "1. Data Loading\n",
        "2. Data Cleaning\n",
        "3. Exploratory Analysis: Bivariate and Multivariate\n",
        "4. Creating Visualisations to Support the Analysis\n",
        "5. Deriving Insights and Stating Conclusions"
      ]
    },
    {
      "cell_type": "markdown",
      "metadata": {
        "id": "gTxV-3GJUhWm"
      },
      "source": [
        "---"
      ]
    },
    {
      "cell_type": "markdown",
      "metadata": {
        "id": "ofebI8ITG-Li"
      },
      "source": [
        "**NOTE:** The marks given along with headings and sub-headings are cumulative marks for those particular headings/sub-headings.<br>\n",
        "\n",
        "The actual marks for each task are specified within the tasks themselves.\n",
        "\n",
        "For example, marks given with heading *2* or sub-heading *2.1* are the cumulative marks, for your reference only. <br>\n",
        "\n",
        "The marks you will receive for completing tasks are given with the tasks.\n",
        "\n",
        "Suppose the marks for two tasks are: 3 marks for 2.1.1 and 2 marks for 3.2.2, or\n",
        "* 2.1.1 [3 marks]\n",
        "* 3.2.2 [2 marks]\n",
        "\n",
        "then, you will earn 3 marks for completing task 2.1.1 and 2 marks for completing task 3.2.2.\n"
      ]
    },
    {
      "cell_type": "markdown",
      "metadata": {
        "id": "YdQjht7dUiHt"
      },
      "source": [
        "---"
      ]
    },
    {
      "cell_type": "markdown",
      "metadata": {
        "id": "0eaCZjHIvfuI"
      },
      "source": [
        "## Data Understanding\n",
        "The yellow taxi trip records include fields capturing pick-up and drop-off dates/times, pick-up and drop-off locations, trip distances, itemized fares, rate types, payment types, and driver-reported passenger counts.\n",
        "\n",
        "The data is stored in Parquet format (*.parquet*). The dataset is from 2009 to 2024. However, for this assignment, we will only be using the data from 2023.\n",
        "\n",
        "The data for each month is present in a different parquet file. You will get twelve files for each of the months in 2023.\n",
        "\n",
        "The data was collected and provided to the NYC Taxi and Limousine Commission (TLC) by technology providers like vendors and taxi hailing apps. <br>\n",
        "\n",
        "You can find the link to the TLC trip records page here: https://www.nyc.gov/site/tlc/about/tlc-trip-record-data.page"
      ]
    },
    {
      "cell_type": "markdown",
      "metadata": {
        "id": "LI6qC5IDxZU1"
      },
      "source": [
        "###  Data Description\n",
        "You can find the data description here: [Data Dictionary](https://www.nyc.gov/assets/tlc/downloads/pdf/data_dictionary_trip_records_yellow.pdf)"
      ]
    },
    {
      "cell_type": "markdown",
      "metadata": {
        "id": "FafCzrDuxHg2"
      },
      "source": [
        "**Trip Records**\n",
        "\n",
        "\n",
        "\n",
        "|Field Name       |description |\n",
        "|:----------------|:-----------|\n",
        "| VendorID | A code indicating the TPEP provider that provided the record. <br> 1= Creative Mobile Technologies, LLC; <br> 2= VeriFone Inc. |\n",
        "| tpep_pickup_datetime | The date and time when the meter was engaged.  |\n",
        "| tpep_dropoff_datetime | The date and time when the meter was disengaged.   |\n",
        "| Passenger_count | The number of passengers in the vehicle. <br> This is a driver-entered value. |\n",
        "| Trip_distance | The elapsed trip distance in miles reported by the taximeter. |\n",
        "| PULocationID | TLC Taxi Zone in which the taximeter was engaged |\n",
        "| DOLocationID | TLC Taxi Zone in which the taximeter was disengaged |\n",
        "|RateCodeID |The final rate code in effect at the end of the trip.<br> 1 = Standard rate <br> 2 = JFK <br> 3 = Newark <br>4 = Nassau or Westchester <br>5 = Negotiated fare <br>6 = Group ride |\n",
        "|Store_and_fwd_flag |This flag indicates whether the trip record was held in vehicle memory before sending to the vendor, aka “store and forward,” because the vehicle did not have a connection to the server.  <br>Y= store and forward trip <br>N= not a store and forward trip |\n",
        "|Payment_type| A numeric code signifying how the passenger paid for the trip. <br> 1 = Credit card <br>2 = Cash <br>3 = No charge <br>4 = Dispute <br>5 = Unknown <br>6 = Voided trip |\n",
        "|Fare_amount| The time-and-distance fare calculated by the meter. <br>Extra Miscellaneous extras and surcharges.  Currently, this only includes the 0.50 and 1 USD rush hour and overnight charges. |\n",
        "|MTA_tax |0.50 USD MTA tax that is automatically triggered based on the metered rate in use. |\n",
        "|Improvement_surcharge | 0.30 USD improvement surcharge assessed trips at the flag drop. The improvement surcharge began being levied in 2015. |\n",
        "|Tip_amount |Tip amount – This field is automatically populated for credit card tips. Cash tips are not included. |\n",
        "| Tolls_amount | Total amount of all tolls paid in trip.  |\n",
        "| total_amount | The total amount charged to passengers. Does not include cash tips. |\n",
        "|Congestion_Surcharge |Total amount collected in trip for NYS congestion surcharge. |\n",
        "| Airport_fee | 1.25 USD for pick up only at LaGuardia and John F. Kennedy Airports|\n",
        "\n",
        "Although the amounts of extra charges and taxes applied are specified in the data dictionary, you will see that some cases have different values of these charges in the actual data."
      ]
    },
    {
      "cell_type": "markdown",
      "metadata": {
        "id": "mL-FWYFnVEdE"
      },
      "source": [
        "**Taxi Zones**\n",
        "\n",
        "Each of the trip records contains a field corresponding to the location of the pickup or drop-off of the trip, populated by numbers ranging from 1-263.\n",
        "\n",
        "These numbers correspond to taxi zones, which may be downloaded as a table or map/shapefile and matched to the trip records using a join.\n",
        "\n",
        "This is covered in more detail in later sections."
      ]
    },
    {
      "cell_type": "markdown",
      "metadata": {
        "id": "z66W3s51U0gF"
      },
      "source": [
        "---"
      ]
    },
    {
      "cell_type": "markdown",
      "metadata": {
        "id": "Kw-WRzBfyS7j"
      },
      "source": [
        "\n",
        "\n",
        "```\n",
        "# This is formatted as code\n",
        "```\n",
        "\n",
        "## **1** Data Preparation\n",
        "\n",
        "<font color = red>[5 marks]</font> <br>"
      ]
    },
    {
      "cell_type": "markdown",
      "metadata": {
        "id": "nM2X-s6lycvQ"
      },
      "source": [
        "### Import Libraries"
      ]
    },
    {
      "cell_type": "code",
      "execution_count": null,
      "metadata": {
        "id": "juReqsAzEdW3"
      },
      "outputs": [],
      "source": [
        "# Import warnings\n",
        "\n"
      ]
    },
    {
      "cell_type": "code",
      "execution_count": 109,
      "metadata": {
        "id": "3XZjOlJiy1dr"
      },
      "outputs": [],
      "source": [
        "# Import the libraries you will be using for analysis\n",
        "import pandas as pd\n",
        "import numpy as np\n",
        "import matplotlib.pyplot as plt\n",
        "import seaborn as sns\n"
      ]
    },
    {
      "cell_type": "code",
      "execution_count": 110,
      "metadata": {
        "id": "NsH5LNrSgW9q",
        "colab": {
          "base_uri": "https://localhost:8080/"
        },
        "outputId": "28022bbc-a21b-45eb-93c0-5eda5b7a74cd"
      },
      "outputs": [
        {
          "output_type": "stream",
          "name": "stdout",
          "text": [
            "numpy version: 2.0.2\n",
            "pandas version: 2.2.2\n",
            "matplotlib version: 3.10.0\n",
            "seaborn version: 0.13.2\n"
          ]
        }
      ],
      "source": [
        "# Recommended versions\n",
        "# numpy version: 1.26.4\n",
        "# pandas version: 2.2.2\n",
        "# matplotlib version: 3.10.0\n",
        "# seaborn version: 0.13.2\n",
        "\n",
        "# Check versions\n",
        "print(\"numpy version:\", np.__version__)\n",
        "print(\"pandas version:\", pd.__version__)\n",
        "print(\"matplotlib version:\", plt.matplotlib.__version__)\n",
        "print(\"seaborn version:\", sns.__version__)"
      ]
    },
    {
      "cell_type": "markdown",
      "metadata": {
        "id": "NgHgbPIepaYl"
      },
      "source": [
        "### **1.1** Load the dataset\n",
        "<font color = red>[5 marks]</font> <br>"
      ]
    },
    {
      "cell_type": "markdown",
      "metadata": {
        "id": "KrGluF_gpeHs"
      },
      "source": [
        "You will see twelve files, one for each month.\n",
        "\n",
        "To read parquet files with Pandas, you have to follow a similar syntax as that for CSV files.\n",
        "\n",
        "`df = pd.read_parquet('file.parquet')`"
      ]
    },
    {
      "cell_type": "code",
      "source": [
        "from google.colab import drive\n",
        "drive.mount('/content/drive')"
      ],
      "metadata": {
        "colab": {
          "base_uri": "https://localhost:8080/"
        },
        "id": "88IApVcYTK8t",
        "outputId": "1baddab8-f38d-4e2b-ad70-9e38e509729b"
      },
      "execution_count": 111,
      "outputs": [
        {
          "output_type": "stream",
          "name": "stdout",
          "text": [
            "Drive already mounted at /content/drive; to attempt to forcibly remount, call drive.mount(\"/content/drive\", force_remount=True).\n"
          ]
        }
      ]
    },
    {
      "cell_type": "markdown",
      "metadata": {
        "id": "eh-keWIyqcyr"
      },
      "source": [
        "How many rows are there? Do you think handling such a large number of rows is computationally feasible when we have to combine the data for all twelve months into one?\n",
        "\n",
        "To handle this, we need to sample a fraction of data from each of the files. How to go about that? Think of a way to select only some portion of the data from each month's file that accurately represents the trends."
      ]
    },
    {
      "cell_type": "markdown",
      "metadata": {
        "id": "zHx7lh_3QGmj"
      },
      "source": [
        "#### Sampling the Data\n",
        "> One way is to take a small percentage of entries for pickup in every hour of a date. So, for all the days in a month, we can iterate through the hours and select 5% values randomly from those. Use `tpep_pickup_datetime` for this. Separate date and hour from the datetime values and then for each date, select some fraction of trips for each of the 24 hours.\n",
        "\n",
        "To sample data, you can use the `sample()` method. Follow this syntax:\n",
        "\n",
        "```Python\n",
        "# sampled_data is an empty DF to keep appending sampled data of each hour\n",
        "# hour_data is the DF of entries for an hour 'X' on a date 'Y'\n",
        "\n",
        "sample = hour_data.sample(frac = 0.05, random_state = 42)\n",
        "# sample 0.05 of the hour_data\n",
        "# random_state is just a seed for sampling, you can define it yourself\n",
        "\n",
        "sampled_data = pd.concat([sampled_data, sample]) # adding data for this hour to the DF\n",
        "```\n",
        "\n",
        "This *sampled_data* will contain 5% values selected at random from each hour.\n",
        "\n",
        "Note that the code given above is only the part that will be used for sampling and not the complete code required for sampling and combining the data files.\n",
        "\n",
        "Keep in mind that you sample by date AND hour, not just hour. (Why?)"
      ]
    },
    {
      "cell_type": "markdown",
      "metadata": {
        "id": "3zog80nsqvKp"
      },
      "source": [
        "---"
      ]
    },
    {
      "cell_type": "markdown",
      "metadata": {
        "id": "Fp24-wpQrlC5"
      },
      "source": [
        "**1.1.1** <font color = red>[5 marks]</font> <br>\n",
        "Figure out how to sample and combine the files."
      ]
    },
    {
      "cell_type": "markdown",
      "metadata": {
        "id": "vRGOnciGOvq0"
      },
      "source": [
        "**Note:** It is not mandatory to use the method specified above. While sampling, you only need to make sure that your sampled data represents the overall data of all the months accurately."
      ]
    },
    {
      "cell_type": "code",
      "execution_count": null,
      "metadata": {
        "id": "3cpuzPFvP2iC"
      },
      "outputs": [],
      "source": [
        "# Sample the data\n",
        "# It is recommmended to not load all the files at once to avoid memory overload"
      ]
    },
    {
      "cell_type": "code",
      "execution_count": null,
      "metadata": {
        "id": "h3x5bCWmarTO"
      },
      "outputs": [],
      "source": [
        "# from google.colab import drive\n",
        "# drive.mount('/content/drive')"
      ]
    },
    {
      "cell_type": "code",
      "source": [
        "import pandas as pd\n",
        "import os\n",
        "\n",
        "# Path to files (update your actual path)\n",
        "path = '/content/drive/Othercomputers/Dell G15/Upgrad/Dataset/NYC Taxi/NYC Taxi/trip_records'\n",
        "all_files = [f for f in os.listdir(path) if f.endswith('.parquet')]\n",
        "\n",
        "# List to collect samples\n",
        "all_samples = []\n",
        "\n",
        "for file in all_files:\n",
        "    # Read each file\n",
        "    df = pd.read_parquet(os.path.join(path, file))\n",
        "\n",
        "    # Create hour and date columns\n",
        "    df['date'] = df['tpep_pickup_datetime'].dt.date\n",
        "    df['hour'] = df['tpep_pickup_datetime'].dt.hour\n",
        "\n",
        "    # Sample 5% from each hour-date combination\n",
        "    sampled = df.groupby(['date', 'hour']).sample(frac=0.05, random_state=42)\n",
        "    all_samples.append(sampled)\n",
        "\n",
        "# Combine and save\n",
        "final_sample = pd.concat(all_samples)\n",
        "final_sample.to_parquet('/content/drive/Othercomputers/Dell G15/Upgrad/Dataset/NYC Taxi/NYC Taxi/trip_records/simple_sample.parquet')\n",
        "\n",
        "print(f\"Sampled {len(final_sample):,} records\")"
      ],
      "metadata": {
        "colab": {
          "base_uri": "https://localhost:8080/"
        },
        "id": "KUG-LamhjVuh",
        "outputId": "0d7d3b79-9eeb-4f7c-ce5d-ac2d0930739b"
      },
      "execution_count": 112,
      "outputs": [
        {
          "output_type": "stream",
          "name": "stdout",
          "text": [
            "Sampled 1,996,062 records\n"
          ]
        }
      ]
    },
    {
      "cell_type": "markdown",
      "source": [
        "To be deleted\n",
        "\n",
        "This code performs stratified sampling of NYC taxi trip data. Here's a detailed explanation:\n",
        "\n",
        "Import Libraries:\n",
        "pythonCopyimport pandas as pd\n",
        "import os\n",
        "\n",
        "pandas is used for data manipulation and analysis\n",
        "os is used for interacting with the operating system, including file operations\n",
        "\n",
        "\n",
        "Set Up File Path and Get Files:\n",
        "pythonCopypath = '/content/drive/Othercomputers/Dell G15/Upgrad/Dataset/NYC Taxi/NYC Taxi/trip_records'\n",
        "all_files = [f for f in os.listdir(path) if f.endswith('.parquet')]\n",
        "\n",
        "Sets the directory path where the NYC taxi data is stored\n",
        "Creates a list of all .parquet files in that directory (Parquet is a columnar storage file format)\n",
        "\n",
        "\n",
        "Initialize Collection List:\n",
        "pythonCopyall_samples = []\n",
        "\n",
        "Creates an empty list to store the sampled data from each file\n",
        "\n",
        "\n",
        "Process Each File:\n",
        "pythonCopyfor file in all_files:\n",
        "    # Read each file\n",
        "    df = pd.read_parquet(os.path.join(path, file))\n",
        "\n",
        "Loops through each parquet file\n",
        "Reads each file into a pandas DataFrame\n",
        "\n",
        "\n",
        "Create Time-based Features:\n",
        "pythonCopydf['date'] = df['tpep_pickup_datetime'].dt.date\n",
        "df['hour'] = df['tpep_pickup_datetime'].dt.hour\n",
        "\n",
        "Extracts the date and hour from the pickup datetime\n",
        "These will be used as strata for sampling\n",
        "\n",
        "\n",
        "Stratified Sampling:\n",
        "pythonCopysampled = df.groupby(['date', 'hour']).sample(frac=0.05, random_state=42)\n",
        "all_samples.append(sampled)\n",
        "\n",
        "Groups the data by date and hour\n",
        "From each group (e.g., all trips from Jan 1st at 2pm), it randomly selects 5% of the records\n",
        "Uses random_state=42 to ensure reproducibility of the sampling\n",
        "Adds the sampled data to the collection list\n",
        "\n",
        "\n",
        "Combine and Save Results:\n",
        "pythonCopyfinal_sample = pd.concat(all_samples)\n",
        "final_sample.to_parquet('/content/drive/Othercomputers/Dell G15/Upgrad/Dataset/NYC Taxi/NYC Taxi/trip_records/simple_sample.parquet')\n",
        "\n",
        "Combines all sampled data into a single DataFrame\n",
        "Saves the combined sample as a new parquet file\n",
        "\n",
        "\n",
        "Report Results:\n",
        "pythonCopyprint(f\"Sampled {len(final_sample):,} records\")\n",
        "\n",
        "Prints the total number of records in the final sample with comma formatting\n",
        "\n",
        "\n",
        "\n",
        "The key insight is that this code performs stratified sampling rather than simple random sampling. By sampling within each date-hour combination, it ensures the final dataset maintains the temporal distribution of the original data. This is important for time-series data like taxi trips, where patterns vary by time of day and date."
      ],
      "metadata": {
        "id": "qYNyBvK2Lxsn"
      }
    },
    {
      "cell_type": "markdown",
      "metadata": {
        "id": "Sej6pZkzw2AK"
      },
      "source": [
        "After combining the data files into one DataFrame, convert the new DataFrame to a CSV or parquet file and store it to use directly.\n",
        "\n",
        "Ideally, you can try keeping the total entries to around 250,000 to 300,000."
      ]
    },
    {
      "cell_type": "code",
      "source": [
        "# Store the df in parquet\n",
        "# df.to_parquet('')\n",
        "import pandas as pd\n",
        "\n",
        "# Load the sampled Parquet file into a DataFrame\n",
        "df = pd.read_parquet('/content/drive/Othercomputers/Dell G15/Upgrad/Dataset/NYC Taxi/NYC Taxi/trip_records/simple_sample.parquet')\n",
        "\n",
        "# Check the number of entries\n",
        "#print(f\"Total entries: {len(df):,}\")\n",
        "\n",
        "# Verify the first few rows\n",
        "#print(df.head())\n",
        "print(df.info())"
      ],
      "metadata": {
        "id": "FR7rgk7-MAn5",
        "colab": {
          "base_uri": "https://localhost:8080/"
        },
        "outputId": "4804514d-8059-490a-9f0c-04b746734196"
      },
      "execution_count": 113,
      "outputs": [
        {
          "output_type": "stream",
          "name": "stdout",
          "text": [
            "<class 'pandas.core.frame.DataFrame'>\n",
            "Index: 1996062 entries, 119 to 3376302\n",
            "Data columns (total 22 columns):\n",
            " #   Column                 Dtype         \n",
            "---  ------                 -----         \n",
            " 0   VendorID               int64         \n",
            " 1   tpep_pickup_datetime   datetime64[us]\n",
            " 2   tpep_dropoff_datetime  datetime64[us]\n",
            " 3   passenger_count        float64       \n",
            " 4   trip_distance          float64       \n",
            " 5   RatecodeID             float64       \n",
            " 6   store_and_fwd_flag     object        \n",
            " 7   PULocationID           int64         \n",
            " 8   DOLocationID           int64         \n",
            " 9   payment_type           int64         \n",
            " 10  fare_amount            float64       \n",
            " 11  extra                  float64       \n",
            " 12  mta_tax                float64       \n",
            " 13  tip_amount             float64       \n",
            " 14  tolls_amount           float64       \n",
            " 15  improvement_surcharge  float64       \n",
            " 16  total_amount           float64       \n",
            " 17  congestion_surcharge   float64       \n",
            " 18  Airport_fee            float64       \n",
            " 19  date                   object        \n",
            " 20  hour                   int32         \n",
            " 21  airport_fee            float64       \n",
            "dtypes: datetime64[us](2), float64(13), int32(1), int64(4), object(2)\n",
            "memory usage: 342.6+ MB\n",
            "None\n"
          ]
        }
      ]
    },
    {
      "cell_type": "code",
      "source": [
        "df.passenger_count.value_counts()"
      ],
      "metadata": {
        "colab": {
          "base_uri": "https://localhost:8080/",
          "height": 429
        },
        "id": "j2mH18OEjdjT",
        "outputId": "93f9d1ac-be85-402a-a5cf-de4a8a85ddaf"
      },
      "execution_count": 114,
      "outputs": [
        {
          "output_type": "execute_result",
          "data": {
            "text/plain": [
              "passenger_count\n",
              "1.0    1450361\n",
              "2.0     290977\n",
              "3.0      72484\n",
              "4.0      41200\n",
              "0.0      30794\n",
              "5.0      25309\n",
              "6.0      16472\n",
              "8.0         10\n",
              "7.0          6\n",
              "9.0          2\n",
              "Name: count, dtype: int64"
            ],
            "text/html": [
              "<div>\n",
              "<style scoped>\n",
              "    .dataframe tbody tr th:only-of-type {\n",
              "        vertical-align: middle;\n",
              "    }\n",
              "\n",
              "    .dataframe tbody tr th {\n",
              "        vertical-align: top;\n",
              "    }\n",
              "\n",
              "    .dataframe thead th {\n",
              "        text-align: right;\n",
              "    }\n",
              "</style>\n",
              "<table border=\"1\" class=\"dataframe\">\n",
              "  <thead>\n",
              "    <tr style=\"text-align: right;\">\n",
              "      <th></th>\n",
              "      <th>count</th>\n",
              "    </tr>\n",
              "    <tr>\n",
              "      <th>passenger_count</th>\n",
              "      <th></th>\n",
              "    </tr>\n",
              "  </thead>\n",
              "  <tbody>\n",
              "    <tr>\n",
              "      <th>1.0</th>\n",
              "      <td>1450361</td>\n",
              "    </tr>\n",
              "    <tr>\n",
              "      <th>2.0</th>\n",
              "      <td>290977</td>\n",
              "    </tr>\n",
              "    <tr>\n",
              "      <th>3.0</th>\n",
              "      <td>72484</td>\n",
              "    </tr>\n",
              "    <tr>\n",
              "      <th>4.0</th>\n",
              "      <td>41200</td>\n",
              "    </tr>\n",
              "    <tr>\n",
              "      <th>0.0</th>\n",
              "      <td>30794</td>\n",
              "    </tr>\n",
              "    <tr>\n",
              "      <th>5.0</th>\n",
              "      <td>25309</td>\n",
              "    </tr>\n",
              "    <tr>\n",
              "      <th>6.0</th>\n",
              "      <td>16472</td>\n",
              "    </tr>\n",
              "    <tr>\n",
              "      <th>8.0</th>\n",
              "      <td>10</td>\n",
              "    </tr>\n",
              "    <tr>\n",
              "      <th>7.0</th>\n",
              "      <td>6</td>\n",
              "    </tr>\n",
              "    <tr>\n",
              "      <th>9.0</th>\n",
              "      <td>2</td>\n",
              "    </tr>\n",
              "  </tbody>\n",
              "</table>\n",
              "</div><br><label><b>dtype:</b> int64</label>"
            ]
          },
          "metadata": {},
          "execution_count": 114
        }
      ]
    },
    {
      "cell_type": "markdown",
      "metadata": {
        "id": "QaOS3H9izZ0N"
      },
      "source": [
        "## **2** Data Cleaning\n",
        "<font color = red>[30 marks]</font> <br>"
      ]
    },
    {
      "cell_type": "markdown",
      "metadata": {
        "id": "5y3PKWqhxRA9"
      },
      "source": [
        "Now we can load the new data directly."
      ]
    },
    {
      "cell_type": "code",
      "execution_count": 115,
      "metadata": {
        "id": "FOuOL0SDxQHd",
        "colab": {
          "base_uri": "https://localhost:8080/"
        },
        "outputId": "161462ab-e6fb-4854-9c7e-1e0817d35205"
      },
      "outputs": [
        {
          "output_type": "stream",
          "name": "stdout",
          "text": [
            "<class 'pandas.core.frame.DataFrame'>\n",
            "Index: 1996062 entries, 119 to 3376302\n",
            "Data columns (total 22 columns):\n",
            " #   Column                 Dtype         \n",
            "---  ------                 -----         \n",
            " 0   VendorID               int64         \n",
            " 1   tpep_pickup_datetime   datetime64[us]\n",
            " 2   tpep_dropoff_datetime  datetime64[us]\n",
            " 3   passenger_count        float64       \n",
            " 4   trip_distance          float64       \n",
            " 5   RatecodeID             float64       \n",
            " 6   store_and_fwd_flag     object        \n",
            " 7   PULocationID           int64         \n",
            " 8   DOLocationID           int64         \n",
            " 9   payment_type           int64         \n",
            " 10  fare_amount            float64       \n",
            " 11  extra                  float64       \n",
            " 12  mta_tax                float64       \n",
            " 13  tip_amount             float64       \n",
            " 14  tolls_amount           float64       \n",
            " 15  improvement_surcharge  float64       \n",
            " 16  total_amount           float64       \n",
            " 17  congestion_surcharge   float64       \n",
            " 18  Airport_fee            float64       \n",
            " 19  date                   object        \n",
            " 20  hour                   int32         \n",
            " 21  airport_fee            float64       \n",
            "dtypes: datetime64[us](2), float64(13), int32(1), int64(4), object(2)\n",
            "memory usage: 342.6+ MB\n",
            "None\n"
          ]
        }
      ],
      "source": [
        "# Load the new data file\n",
        "import pandas as pd\n",
        "\n",
        "# Load the sampled Parquet file into a DataFrame\n",
        "df = pd.read_parquet('/content/drive/Othercomputers/Dell G15/Upgrad/Dataset/NYC Taxi/NYC Taxi/trip_records/simple_sample.parquet')\n",
        "print(df.info())\n"
      ]
    },
    {
      "cell_type": "code",
      "execution_count": 116,
      "metadata": {
        "id": "fbzmFKyn1780",
        "colab": {
          "base_uri": "https://localhost:8080/",
          "height": 617
        },
        "outputId": "66862b62-398e-4a9a-b284-20c9b06e854b"
      },
      "outputs": [
        {
          "output_type": "execute_result",
          "data": {
            "text/plain": [
              "      VendorID tpep_pickup_datetime tpep_dropoff_datetime  passenger_count  \\\n",
              "119          2  2023-08-31 23:56:01   2023-09-01 00:18:41              1.0   \n",
              "1373         2  2023-09-01 00:22:07   2023-09-01 00:49:44              1.0   \n",
              "1489         2  2023-09-01 00:40:20   2023-09-01 00:51:30              1.0   \n",
              "2543         2  2023-09-01 00:29:50   2023-09-01 01:06:41              2.0   \n",
              "1836         2  2023-09-01 00:07:05   2023-09-01 00:13:37              2.0   \n",
              "...        ...                  ...                   ...              ...   \n",
              "3896         2  2023-09-01 01:17:04   2023-09-01 01:21:49              1.0   \n",
              "3933         2  2023-09-01 01:57:15   2023-09-01 02:03:40              5.0   \n",
              "3909         2  2023-09-01 01:36:08   2023-09-01 01:51:32              1.0   \n",
              "2703         1  2023-09-01 01:15:38   2023-09-01 01:35:46              1.0   \n",
              "3866         1  2023-09-01 01:06:26   2023-09-01 01:24:04              1.0   \n",
              "\n",
              "      trip_distance  RatecodeID store_and_fwd_flag  PULocationID  \\\n",
              "119            3.11         1.0                  N           114   \n",
              "1373           6.85         1.0                  N           144   \n",
              "1489           1.15         1.0                  N           230   \n",
              "2543          19.82         2.0                  N           132   \n",
              "1836           1.22         1.0                  N           186   \n",
              "...             ...         ...                ...           ...   \n",
              "3896           0.76         1.0                  N           148   \n",
              "3933           1.43         1.0                  N           170   \n",
              "3909           3.29         1.0                  N            79   \n",
              "2703           8.50         1.0                  N           229   \n",
              "3866           4.00         1.0                  N           249   \n",
              "\n",
              "      DOLocationID  payment_type  ...  mta_tax  tip_amount  tolls_amount  \\\n",
              "119            246             1  ...      0.5        0.00          0.00   \n",
              "1373           238             1  ...      0.5        7.62          0.00   \n",
              "1489           162             1  ...      0.5        3.28          0.00   \n",
              "2543           142             1  ...      0.5       16.54          6.94   \n",
              "1836           107             1  ...      0.5        1.00          0.00   \n",
              "...            ...           ...  ...      ...         ...           ...   \n",
              "3896            79             1  ...      0.5        2.00          0.00   \n",
              "3933           107             1  ...      0.5        0.00          0.00   \n",
              "3909            66             1  ...      0.5        3.00          0.00   \n",
              "2703           244             1  ...      0.5        9.85          0.00   \n",
              "3866            33             2  ...      0.5        0.00          0.00   \n",
              "\n",
              "      improvement_surcharge  total_amount  congestion_surcharge  Airport_fee  \\\n",
              "119                     1.0         26.20                   2.5         0.00   \n",
              "1373                    1.0         45.72                   2.5         0.00   \n",
              "1489                    1.0         19.68                   2.5         0.00   \n",
              "2543                    1.0         99.23                   2.5         1.75   \n",
              "1836                    1.0         14.60                   2.5         0.00   \n",
              "...                     ...           ...                   ...          ...   \n",
              "3896                    1.0         14.20                   2.5         0.00   \n",
              "3933                    1.0         14.30                   2.5         0.00   \n",
              "3909                    1.0         27.10                   2.5         0.00   \n",
              "2703                    1.0         49.35                   2.5         0.00   \n",
              "3866                    1.0         24.10                   2.5         0.00   \n",
              "\n",
              "            date  hour airport_fee  \n",
              "119   2023-08-31    23         NaN  \n",
              "1373  2023-09-01     0         NaN  \n",
              "1489  2023-09-01     0         NaN  \n",
              "2543  2023-09-01     0         NaN  \n",
              "1836  2023-09-01     0         NaN  \n",
              "...          ...   ...         ...  \n",
              "3896  2023-09-01     1         NaN  \n",
              "3933  2023-09-01     1         NaN  \n",
              "3909  2023-09-01     1         NaN  \n",
              "2703  2023-09-01     1         NaN  \n",
              "3866  2023-09-01     1         NaN  \n",
              "\n",
              "[200 rows x 22 columns]"
            ],
            "text/html": [
              "\n",
              "  <div id=\"df-debae644-1ff6-4c84-b765-e0808d33a2ab\" class=\"colab-df-container\">\n",
              "    <div>\n",
              "<style scoped>\n",
              "    .dataframe tbody tr th:only-of-type {\n",
              "        vertical-align: middle;\n",
              "    }\n",
              "\n",
              "    .dataframe tbody tr th {\n",
              "        vertical-align: top;\n",
              "    }\n",
              "\n",
              "    .dataframe thead th {\n",
              "        text-align: right;\n",
              "    }\n",
              "</style>\n",
              "<table border=\"1\" class=\"dataframe\">\n",
              "  <thead>\n",
              "    <tr style=\"text-align: right;\">\n",
              "      <th></th>\n",
              "      <th>VendorID</th>\n",
              "      <th>tpep_pickup_datetime</th>\n",
              "      <th>tpep_dropoff_datetime</th>\n",
              "      <th>passenger_count</th>\n",
              "      <th>trip_distance</th>\n",
              "      <th>RatecodeID</th>\n",
              "      <th>store_and_fwd_flag</th>\n",
              "      <th>PULocationID</th>\n",
              "      <th>DOLocationID</th>\n",
              "      <th>payment_type</th>\n",
              "      <th>...</th>\n",
              "      <th>mta_tax</th>\n",
              "      <th>tip_amount</th>\n",
              "      <th>tolls_amount</th>\n",
              "      <th>improvement_surcharge</th>\n",
              "      <th>total_amount</th>\n",
              "      <th>congestion_surcharge</th>\n",
              "      <th>Airport_fee</th>\n",
              "      <th>date</th>\n",
              "      <th>hour</th>\n",
              "      <th>airport_fee</th>\n",
              "    </tr>\n",
              "  </thead>\n",
              "  <tbody>\n",
              "    <tr>\n",
              "      <th>119</th>\n",
              "      <td>2</td>\n",
              "      <td>2023-08-31 23:56:01</td>\n",
              "      <td>2023-09-01 00:18:41</td>\n",
              "      <td>1.0</td>\n",
              "      <td>3.11</td>\n",
              "      <td>1.0</td>\n",
              "      <td>N</td>\n",
              "      <td>114</td>\n",
              "      <td>246</td>\n",
              "      <td>1</td>\n",
              "      <td>...</td>\n",
              "      <td>0.5</td>\n",
              "      <td>0.00</td>\n",
              "      <td>0.00</td>\n",
              "      <td>1.0</td>\n",
              "      <td>26.20</td>\n",
              "      <td>2.5</td>\n",
              "      <td>0.00</td>\n",
              "      <td>2023-08-31</td>\n",
              "      <td>23</td>\n",
              "      <td>NaN</td>\n",
              "    </tr>\n",
              "    <tr>\n",
              "      <th>1373</th>\n",
              "      <td>2</td>\n",
              "      <td>2023-09-01 00:22:07</td>\n",
              "      <td>2023-09-01 00:49:44</td>\n",
              "      <td>1.0</td>\n",
              "      <td>6.85</td>\n",
              "      <td>1.0</td>\n",
              "      <td>N</td>\n",
              "      <td>144</td>\n",
              "      <td>238</td>\n",
              "      <td>1</td>\n",
              "      <td>...</td>\n",
              "      <td>0.5</td>\n",
              "      <td>7.62</td>\n",
              "      <td>0.00</td>\n",
              "      <td>1.0</td>\n",
              "      <td>45.72</td>\n",
              "      <td>2.5</td>\n",
              "      <td>0.00</td>\n",
              "      <td>2023-09-01</td>\n",
              "      <td>0</td>\n",
              "      <td>NaN</td>\n",
              "    </tr>\n",
              "    <tr>\n",
              "      <th>1489</th>\n",
              "      <td>2</td>\n",
              "      <td>2023-09-01 00:40:20</td>\n",
              "      <td>2023-09-01 00:51:30</td>\n",
              "      <td>1.0</td>\n",
              "      <td>1.15</td>\n",
              "      <td>1.0</td>\n",
              "      <td>N</td>\n",
              "      <td>230</td>\n",
              "      <td>162</td>\n",
              "      <td>1</td>\n",
              "      <td>...</td>\n",
              "      <td>0.5</td>\n",
              "      <td>3.28</td>\n",
              "      <td>0.00</td>\n",
              "      <td>1.0</td>\n",
              "      <td>19.68</td>\n",
              "      <td>2.5</td>\n",
              "      <td>0.00</td>\n",
              "      <td>2023-09-01</td>\n",
              "      <td>0</td>\n",
              "      <td>NaN</td>\n",
              "    </tr>\n",
              "    <tr>\n",
              "      <th>2543</th>\n",
              "      <td>2</td>\n",
              "      <td>2023-09-01 00:29:50</td>\n",
              "      <td>2023-09-01 01:06:41</td>\n",
              "      <td>2.0</td>\n",
              "      <td>19.82</td>\n",
              "      <td>2.0</td>\n",
              "      <td>N</td>\n",
              "      <td>132</td>\n",
              "      <td>142</td>\n",
              "      <td>1</td>\n",
              "      <td>...</td>\n",
              "      <td>0.5</td>\n",
              "      <td>16.54</td>\n",
              "      <td>6.94</td>\n",
              "      <td>1.0</td>\n",
              "      <td>99.23</td>\n",
              "      <td>2.5</td>\n",
              "      <td>1.75</td>\n",
              "      <td>2023-09-01</td>\n",
              "      <td>0</td>\n",
              "      <td>NaN</td>\n",
              "    </tr>\n",
              "    <tr>\n",
              "      <th>1836</th>\n",
              "      <td>2</td>\n",
              "      <td>2023-09-01 00:07:05</td>\n",
              "      <td>2023-09-01 00:13:37</td>\n",
              "      <td>2.0</td>\n",
              "      <td>1.22</td>\n",
              "      <td>1.0</td>\n",
              "      <td>N</td>\n",
              "      <td>186</td>\n",
              "      <td>107</td>\n",
              "      <td>1</td>\n",
              "      <td>...</td>\n",
              "      <td>0.5</td>\n",
              "      <td>1.00</td>\n",
              "      <td>0.00</td>\n",
              "      <td>1.0</td>\n",
              "      <td>14.60</td>\n",
              "      <td>2.5</td>\n",
              "      <td>0.00</td>\n",
              "      <td>2023-09-01</td>\n",
              "      <td>0</td>\n",
              "      <td>NaN</td>\n",
              "    </tr>\n",
              "    <tr>\n",
              "      <th>...</th>\n",
              "      <td>...</td>\n",
              "      <td>...</td>\n",
              "      <td>...</td>\n",
              "      <td>...</td>\n",
              "      <td>...</td>\n",
              "      <td>...</td>\n",
              "      <td>...</td>\n",
              "      <td>...</td>\n",
              "      <td>...</td>\n",
              "      <td>...</td>\n",
              "      <td>...</td>\n",
              "      <td>...</td>\n",
              "      <td>...</td>\n",
              "      <td>...</td>\n",
              "      <td>...</td>\n",
              "      <td>...</td>\n",
              "      <td>...</td>\n",
              "      <td>...</td>\n",
              "      <td>...</td>\n",
              "      <td>...</td>\n",
              "      <td>...</td>\n",
              "    </tr>\n",
              "    <tr>\n",
              "      <th>3896</th>\n",
              "      <td>2</td>\n",
              "      <td>2023-09-01 01:17:04</td>\n",
              "      <td>2023-09-01 01:21:49</td>\n",
              "      <td>1.0</td>\n",
              "      <td>0.76</td>\n",
              "      <td>1.0</td>\n",
              "      <td>N</td>\n",
              "      <td>148</td>\n",
              "      <td>79</td>\n",
              "      <td>1</td>\n",
              "      <td>...</td>\n",
              "      <td>0.5</td>\n",
              "      <td>2.00</td>\n",
              "      <td>0.00</td>\n",
              "      <td>1.0</td>\n",
              "      <td>14.20</td>\n",
              "      <td>2.5</td>\n",
              "      <td>0.00</td>\n",
              "      <td>2023-09-01</td>\n",
              "      <td>1</td>\n",
              "      <td>NaN</td>\n",
              "    </tr>\n",
              "    <tr>\n",
              "      <th>3933</th>\n",
              "      <td>2</td>\n",
              "      <td>2023-09-01 01:57:15</td>\n",
              "      <td>2023-09-01 02:03:40</td>\n",
              "      <td>5.0</td>\n",
              "      <td>1.43</td>\n",
              "      <td>1.0</td>\n",
              "      <td>N</td>\n",
              "      <td>170</td>\n",
              "      <td>107</td>\n",
              "      <td>1</td>\n",
              "      <td>...</td>\n",
              "      <td>0.5</td>\n",
              "      <td>0.00</td>\n",
              "      <td>0.00</td>\n",
              "      <td>1.0</td>\n",
              "      <td>14.30</td>\n",
              "      <td>2.5</td>\n",
              "      <td>0.00</td>\n",
              "      <td>2023-09-01</td>\n",
              "      <td>1</td>\n",
              "      <td>NaN</td>\n",
              "    </tr>\n",
              "    <tr>\n",
              "      <th>3909</th>\n",
              "      <td>2</td>\n",
              "      <td>2023-09-01 01:36:08</td>\n",
              "      <td>2023-09-01 01:51:32</td>\n",
              "      <td>1.0</td>\n",
              "      <td>3.29</td>\n",
              "      <td>1.0</td>\n",
              "      <td>N</td>\n",
              "      <td>79</td>\n",
              "      <td>66</td>\n",
              "      <td>1</td>\n",
              "      <td>...</td>\n",
              "      <td>0.5</td>\n",
              "      <td>3.00</td>\n",
              "      <td>0.00</td>\n",
              "      <td>1.0</td>\n",
              "      <td>27.10</td>\n",
              "      <td>2.5</td>\n",
              "      <td>0.00</td>\n",
              "      <td>2023-09-01</td>\n",
              "      <td>1</td>\n",
              "      <td>NaN</td>\n",
              "    </tr>\n",
              "    <tr>\n",
              "      <th>2703</th>\n",
              "      <td>1</td>\n",
              "      <td>2023-09-01 01:15:38</td>\n",
              "      <td>2023-09-01 01:35:46</td>\n",
              "      <td>1.0</td>\n",
              "      <td>8.50</td>\n",
              "      <td>1.0</td>\n",
              "      <td>N</td>\n",
              "      <td>229</td>\n",
              "      <td>244</td>\n",
              "      <td>1</td>\n",
              "      <td>...</td>\n",
              "      <td>0.5</td>\n",
              "      <td>9.85</td>\n",
              "      <td>0.00</td>\n",
              "      <td>1.0</td>\n",
              "      <td>49.35</td>\n",
              "      <td>2.5</td>\n",
              "      <td>0.00</td>\n",
              "      <td>2023-09-01</td>\n",
              "      <td>1</td>\n",
              "      <td>NaN</td>\n",
              "    </tr>\n",
              "    <tr>\n",
              "      <th>3866</th>\n",
              "      <td>1</td>\n",
              "      <td>2023-09-01 01:06:26</td>\n",
              "      <td>2023-09-01 01:24:04</td>\n",
              "      <td>1.0</td>\n",
              "      <td>4.00</td>\n",
              "      <td>1.0</td>\n",
              "      <td>N</td>\n",
              "      <td>249</td>\n",
              "      <td>33</td>\n",
              "      <td>2</td>\n",
              "      <td>...</td>\n",
              "      <td>0.5</td>\n",
              "      <td>0.00</td>\n",
              "      <td>0.00</td>\n",
              "      <td>1.0</td>\n",
              "      <td>24.10</td>\n",
              "      <td>2.5</td>\n",
              "      <td>0.00</td>\n",
              "      <td>2023-09-01</td>\n",
              "      <td>1</td>\n",
              "      <td>NaN</td>\n",
              "    </tr>\n",
              "  </tbody>\n",
              "</table>\n",
              "<p>200 rows × 22 columns</p>\n",
              "</div>\n",
              "    <div class=\"colab-df-buttons\">\n",
              "\n",
              "  <div class=\"colab-df-container\">\n",
              "    <button class=\"colab-df-convert\" onclick=\"convertToInteractive('df-debae644-1ff6-4c84-b765-e0808d33a2ab')\"\n",
              "            title=\"Convert this dataframe to an interactive table.\"\n",
              "            style=\"display:none;\">\n",
              "\n",
              "  <svg xmlns=\"http://www.w3.org/2000/svg\" height=\"24px\" viewBox=\"0 -960 960 960\">\n",
              "    <path d=\"M120-120v-720h720v720H120Zm60-500h600v-160H180v160Zm220 220h160v-160H400v160Zm0 220h160v-160H400v160ZM180-400h160v-160H180v160Zm440 0h160v-160H620v160ZM180-180h160v-160H180v160Zm440 0h160v-160H620v160Z\"/>\n",
              "  </svg>\n",
              "    </button>\n",
              "\n",
              "  <style>\n",
              "    .colab-df-container {\n",
              "      display:flex;\n",
              "      gap: 12px;\n",
              "    }\n",
              "\n",
              "    .colab-df-convert {\n",
              "      background-color: #E8F0FE;\n",
              "      border: none;\n",
              "      border-radius: 50%;\n",
              "      cursor: pointer;\n",
              "      display: none;\n",
              "      fill: #1967D2;\n",
              "      height: 32px;\n",
              "      padding: 0 0 0 0;\n",
              "      width: 32px;\n",
              "    }\n",
              "\n",
              "    .colab-df-convert:hover {\n",
              "      background-color: #E2EBFA;\n",
              "      box-shadow: 0px 1px 2px rgba(60, 64, 67, 0.3), 0px 1px 3px 1px rgba(60, 64, 67, 0.15);\n",
              "      fill: #174EA6;\n",
              "    }\n",
              "\n",
              "    .colab-df-buttons div {\n",
              "      margin-bottom: 4px;\n",
              "    }\n",
              "\n",
              "    [theme=dark] .colab-df-convert {\n",
              "      background-color: #3B4455;\n",
              "      fill: #D2E3FC;\n",
              "    }\n",
              "\n",
              "    [theme=dark] .colab-df-convert:hover {\n",
              "      background-color: #434B5C;\n",
              "      box-shadow: 0px 1px 3px 1px rgba(0, 0, 0, 0.15);\n",
              "      filter: drop-shadow(0px 1px 2px rgba(0, 0, 0, 0.3));\n",
              "      fill: #FFFFFF;\n",
              "    }\n",
              "  </style>\n",
              "\n",
              "    <script>\n",
              "      const buttonEl =\n",
              "        document.querySelector('#df-debae644-1ff6-4c84-b765-e0808d33a2ab button.colab-df-convert');\n",
              "      buttonEl.style.display =\n",
              "        google.colab.kernel.accessAllowed ? 'block' : 'none';\n",
              "\n",
              "      async function convertToInteractive(key) {\n",
              "        const element = document.querySelector('#df-debae644-1ff6-4c84-b765-e0808d33a2ab');\n",
              "        const dataTable =\n",
              "          await google.colab.kernel.invokeFunction('convertToInteractive',\n",
              "                                                    [key], {});\n",
              "        if (!dataTable) return;\n",
              "\n",
              "        const docLinkHtml = 'Like what you see? Visit the ' +\n",
              "          '<a target=\"_blank\" href=https://colab.research.google.com/notebooks/data_table.ipynb>data table notebook</a>'\n",
              "          + ' to learn more about interactive tables.';\n",
              "        element.innerHTML = '';\n",
              "        dataTable['output_type'] = 'display_data';\n",
              "        await google.colab.output.renderOutput(dataTable, element);\n",
              "        const docLink = document.createElement('div');\n",
              "        docLink.innerHTML = docLinkHtml;\n",
              "        element.appendChild(docLink);\n",
              "      }\n",
              "    </script>\n",
              "  </div>\n",
              "\n",
              "\n",
              "<div id=\"df-9d95ce3d-272b-45f1-aa34-9b161cbfa8fc\">\n",
              "  <button class=\"colab-df-quickchart\" onclick=\"quickchart('df-9d95ce3d-272b-45f1-aa34-9b161cbfa8fc')\"\n",
              "            title=\"Suggest charts\"\n",
              "            style=\"display:none;\">\n",
              "\n",
              "<svg xmlns=\"http://www.w3.org/2000/svg\" height=\"24px\"viewBox=\"0 0 24 24\"\n",
              "     width=\"24px\">\n",
              "    <g>\n",
              "        <path d=\"M19 3H5c-1.1 0-2 .9-2 2v14c0 1.1.9 2 2 2h14c1.1 0 2-.9 2-2V5c0-1.1-.9-2-2-2zM9 17H7v-7h2v7zm4 0h-2V7h2v10zm4 0h-2v-4h2v4z\"/>\n",
              "    </g>\n",
              "</svg>\n",
              "  </button>\n",
              "\n",
              "<style>\n",
              "  .colab-df-quickchart {\n",
              "      --bg-color: #E8F0FE;\n",
              "      --fill-color: #1967D2;\n",
              "      --hover-bg-color: #E2EBFA;\n",
              "      --hover-fill-color: #174EA6;\n",
              "      --disabled-fill-color: #AAA;\n",
              "      --disabled-bg-color: #DDD;\n",
              "  }\n",
              "\n",
              "  [theme=dark] .colab-df-quickchart {\n",
              "      --bg-color: #3B4455;\n",
              "      --fill-color: #D2E3FC;\n",
              "      --hover-bg-color: #434B5C;\n",
              "      --hover-fill-color: #FFFFFF;\n",
              "      --disabled-bg-color: #3B4455;\n",
              "      --disabled-fill-color: #666;\n",
              "  }\n",
              "\n",
              "  .colab-df-quickchart {\n",
              "    background-color: var(--bg-color);\n",
              "    border: none;\n",
              "    border-radius: 50%;\n",
              "    cursor: pointer;\n",
              "    display: none;\n",
              "    fill: var(--fill-color);\n",
              "    height: 32px;\n",
              "    padding: 0;\n",
              "    width: 32px;\n",
              "  }\n",
              "\n",
              "  .colab-df-quickchart:hover {\n",
              "    background-color: var(--hover-bg-color);\n",
              "    box-shadow: 0 1px 2px rgba(60, 64, 67, 0.3), 0 1px 3px 1px rgba(60, 64, 67, 0.15);\n",
              "    fill: var(--button-hover-fill-color);\n",
              "  }\n",
              "\n",
              "  .colab-df-quickchart-complete:disabled,\n",
              "  .colab-df-quickchart-complete:disabled:hover {\n",
              "    background-color: var(--disabled-bg-color);\n",
              "    fill: var(--disabled-fill-color);\n",
              "    box-shadow: none;\n",
              "  }\n",
              "\n",
              "  .colab-df-spinner {\n",
              "    border: 2px solid var(--fill-color);\n",
              "    border-color: transparent;\n",
              "    border-bottom-color: var(--fill-color);\n",
              "    animation:\n",
              "      spin 1s steps(1) infinite;\n",
              "  }\n",
              "\n",
              "  @keyframes spin {\n",
              "    0% {\n",
              "      border-color: transparent;\n",
              "      border-bottom-color: var(--fill-color);\n",
              "      border-left-color: var(--fill-color);\n",
              "    }\n",
              "    20% {\n",
              "      border-color: transparent;\n",
              "      border-left-color: var(--fill-color);\n",
              "      border-top-color: var(--fill-color);\n",
              "    }\n",
              "    30% {\n",
              "      border-color: transparent;\n",
              "      border-left-color: var(--fill-color);\n",
              "      border-top-color: var(--fill-color);\n",
              "      border-right-color: var(--fill-color);\n",
              "    }\n",
              "    40% {\n",
              "      border-color: transparent;\n",
              "      border-right-color: var(--fill-color);\n",
              "      border-top-color: var(--fill-color);\n",
              "    }\n",
              "    60% {\n",
              "      border-color: transparent;\n",
              "      border-right-color: var(--fill-color);\n",
              "    }\n",
              "    80% {\n",
              "      border-color: transparent;\n",
              "      border-right-color: var(--fill-color);\n",
              "      border-bottom-color: var(--fill-color);\n",
              "    }\n",
              "    90% {\n",
              "      border-color: transparent;\n",
              "      border-bottom-color: var(--fill-color);\n",
              "    }\n",
              "  }\n",
              "</style>\n",
              "\n",
              "  <script>\n",
              "    async function quickchart(key) {\n",
              "      const quickchartButtonEl =\n",
              "        document.querySelector('#' + key + ' button');\n",
              "      quickchartButtonEl.disabled = true;  // To prevent multiple clicks.\n",
              "      quickchartButtonEl.classList.add('colab-df-spinner');\n",
              "      try {\n",
              "        const charts = await google.colab.kernel.invokeFunction(\n",
              "            'suggestCharts', [key], {});\n",
              "      } catch (error) {\n",
              "        console.error('Error during call to suggestCharts:', error);\n",
              "      }\n",
              "      quickchartButtonEl.classList.remove('colab-df-spinner');\n",
              "      quickchartButtonEl.classList.add('colab-df-quickchart-complete');\n",
              "    }\n",
              "    (() => {\n",
              "      let quickchartButtonEl =\n",
              "        document.querySelector('#df-9d95ce3d-272b-45f1-aa34-9b161cbfa8fc button');\n",
              "      quickchartButtonEl.style.display =\n",
              "        google.colab.kernel.accessAllowed ? 'block' : 'none';\n",
              "    })();\n",
              "  </script>\n",
              "</div>\n",
              "\n",
              "    </div>\n",
              "  </div>\n"
            ],
            "application/vnd.google.colaboratory.intrinsic+json": {
              "type": "dataframe",
              "variable_name": "df"
            }
          },
          "metadata": {},
          "execution_count": 116
        }
      ],
      "source": [
        "df.head(200)"
      ]
    },
    {
      "cell_type": "code",
      "execution_count": 117,
      "metadata": {
        "id": "FH83U4A49ErC",
        "colab": {
          "base_uri": "https://localhost:8080/"
        },
        "outputId": "7188b2de-0a37-4e85-99db-7f3d472f8737"
      },
      "outputs": [
        {
          "output_type": "stream",
          "name": "stdout",
          "text": [
            "<class 'pandas.core.frame.DataFrame'>\n",
            "Index: 1996062 entries, 119 to 3376302\n",
            "Data columns (total 22 columns):\n",
            " #   Column                 Dtype         \n",
            "---  ------                 -----         \n",
            " 0   VendorID               int64         \n",
            " 1   tpep_pickup_datetime   datetime64[us]\n",
            " 2   tpep_dropoff_datetime  datetime64[us]\n",
            " 3   passenger_count        float64       \n",
            " 4   trip_distance          float64       \n",
            " 5   RatecodeID             float64       \n",
            " 6   store_and_fwd_flag     object        \n",
            " 7   PULocationID           int64         \n",
            " 8   DOLocationID           int64         \n",
            " 9   payment_type           int64         \n",
            " 10  fare_amount            float64       \n",
            " 11  extra                  float64       \n",
            " 12  mta_tax                float64       \n",
            " 13  tip_amount             float64       \n",
            " 14  tolls_amount           float64       \n",
            " 15  improvement_surcharge  float64       \n",
            " 16  total_amount           float64       \n",
            " 17  congestion_surcharge   float64       \n",
            " 18  Airport_fee            float64       \n",
            " 19  date                   object        \n",
            " 20  hour                   int32         \n",
            " 21  airport_fee            float64       \n",
            "dtypes: datetime64[us](2), float64(13), int32(1), int64(4), object(2)\n",
            "memory usage: 342.6+ MB\n"
          ]
        }
      ],
      "source": [
        "df.info()"
      ]
    },
    {
      "cell_type": "markdown",
      "metadata": {
        "id": "HZvPSwJx0S3K"
      },
      "source": [
        "\n",
        "\n",
        "```\n",
        "# This is formatted as code\n",
        "```\n",
        "\n",
        "#### **2.1** Fixing Columns\n",
        "<font color = red>[10 marks]</font> <br>\n",
        "\n",
        "Fix/drop any columns as you seem necessary in the below sections"
      ]
    },
    {
      "cell_type": "markdown",
      "metadata": {
        "id": "358takCd2FiM"
      },
      "source": [
        "**2.1.1** <font color = red>[2 marks]</font> <br>\n",
        "\n",
        "Fix the index and drop unnecessary columns"
      ]
    },
    {
      "cell_type": "code",
      "source": [
        "# Fix the index by resetting it to a clean sequential index\n",
        "# Reset the index to a default integer index\n",
        "df = df.reset_index(drop=True)\n",
        "\n",
        "# Drop redundant/irrelevant columns\n",
        "columns_to_drop = [\n",
        "    'store_and_fwd_flag',  # Contains mostly 'N'/'Y' with some nulls (not useful for analysis)\n",
        "    'date',                # Redundant (already captured in tpep_pickup_datetime)\n",
        "    'hour'                 # Redundant (can be derived from tpep_pickup_datetime)\n",
        "]\n",
        "df = df.drop(columns=columns_to_drop)\n",
        "\n",
        "print(\"After fixing index and dropping columns:\")\n",
        "print(df.info())"
      ],
      "metadata": {
        "colab": {
          "base_uri": "https://localhost:8080/"
        },
        "id": "TSeUlgVEL7Bh",
        "outputId": "e25b644c-a192-4c14-e229-5099ab3ffd80"
      },
      "execution_count": 118,
      "outputs": [
        {
          "output_type": "stream",
          "name": "stdout",
          "text": [
            "After fixing index and dropping columns:\n",
            "<class 'pandas.core.frame.DataFrame'>\n",
            "RangeIndex: 1996062 entries, 0 to 1996061\n",
            "Data columns (total 19 columns):\n",
            " #   Column                 Dtype         \n",
            "---  ------                 -----         \n",
            " 0   VendorID               int64         \n",
            " 1   tpep_pickup_datetime   datetime64[us]\n",
            " 2   tpep_dropoff_datetime  datetime64[us]\n",
            " 3   passenger_count        float64       \n",
            " 4   trip_distance          float64       \n",
            " 5   RatecodeID             float64       \n",
            " 6   PULocationID           int64         \n",
            " 7   DOLocationID           int64         \n",
            " 8   payment_type           int64         \n",
            " 9   fare_amount            float64       \n",
            " 10  extra                  float64       \n",
            " 11  mta_tax                float64       \n",
            " 12  tip_amount             float64       \n",
            " 13  tolls_amount           float64       \n",
            " 14  improvement_surcharge  float64       \n",
            " 15  total_amount           float64       \n",
            " 16  congestion_surcharge   float64       \n",
            " 17  Airport_fee            float64       \n",
            " 18  airport_fee            float64       \n",
            "dtypes: datetime64[us](2), float64(13), int64(4)\n",
            "memory usage: 289.3 MB\n",
            "None\n"
          ]
        }
      ]
    },
    {
      "cell_type": "markdown",
      "source": [
        "to be deleted\n",
        "\n",
        "Explanation:\n",
        "\n",
        "This code snippet performs two main data cleaning operations on a pandas DataFrame (df): resetting the index and dropping unnecessary columns.\n",
        "\n",
        "Resetting the Index:\n",
        "\n",
        "df = df.reset_index(drop=True)\n",
        "df.reset_index(): This method resets the index of the DataFrame.\n",
        "drop=True: This argument tells pandas to discard the old index instead of adding it as a new column.\n",
        "Why reset the index?\n",
        "After performing operations like grouping and sampling, the DataFrame's index might become irregular or non-sequential. Resetting it ensures that the index is a clean, sequential integer index (0, 1, 2, ...), which is often necessary for further data manipulation and analysis.\n",
        "It helps to avoid potential issues with indexing and slicing.\n",
        "Dropping Redundant/Irrelevant Columns:\n",
        "\n",
        "columns_to_drop = ['store_and_fwd_flag', 'date', 'hour']\n",
        "This line creates a list called columns_to_drop containing the names of the columns that will be removed from the DataFrame.\n",
        "Explanation of each column:\n",
        "'store_and_fwd_flag':\n",
        "This column typically indicates whether the trip record was stored in the taxi's memory and forwarded to the server later.\n",
        "The comment explains that it contains mostly 'N' (no) and 'Y' (yes) values, with some nulls.\n",
        "It is being dropped as it is deemed not useful for the intended analysis.\n",
        "'date':\n",
        "This column was likely created earlier by extracting the date from the tpep_pickup_datetime column.\n",
        "It is being dropped because the date information is already available within the tpep_pickup_datetime column.\n",
        "'hour':\n",
        "Similar to the date column, this column was likely created by extracting the hour from the tpep_pickup_datetime column.\n",
        "It is also being dropped because the hour information can be derived from the tpep_pickup_datetime column.\n",
        "df = df.drop(columns=columns_to_drop)\n",
        "This line removes the columns specified in the columns_to_drop list from the DataFrame.\n",
        "columns=columns_to_drop specifies that the items in the list refer to column names.\n",
        "Printing DataFrame Information:\n",
        "\n",
        "print(\"After fixing index and dropping columns:\")\n",
        "This line prints a descriptive message to the console.\n",
        "print(df.info())\n",
        "df.info(): This method prints a summary of the DataFrame, including:\n",
        "The number of rows and columns.\n",
        "The column names.\n",
        "The data type of each column.\n",
        "The number of non-null values in each column.\n",
        "The memory usage of the DataFrame.\n",
        "This provides a quick overview of the DataFrame's structure and contents after the cleaning operations.\n"
      ],
      "metadata": {
        "id": "w9k3ZmAuNFk3"
      }
    },
    {
      "cell_type": "markdown",
      "metadata": {
        "id": "TIFmxvIT2wsn"
      },
      "source": [
        "**2.1.2** <font color = red>[3 marks]</font> <br>\n",
        "There are two airport fee columns. This is possibly an error in naming columns. Let's see whether these can be combined into a single column."
      ]
    },
    {
      "cell_type": "code",
      "execution_count": 119,
      "metadata": {
        "id": "rmtgnb1x6TrV",
        "colab": {
          "base_uri": "https://localhost:8080/"
        },
        "outputId": "411e5695-cfa7-42c3-c594-edb90e34a31d"
      },
      "outputs": [
        {
          "output_type": "stream",
          "name": "stdout",
          "text": [
            "\n",
            "After combining airport fee columns:\n",
            "   airport_fee\n",
            "0         0.00\n",
            "1         0.00\n",
            "2         0.00\n",
            "3         1.75\n",
            "4         0.00\n"
          ]
        }
      ],
      "source": [
        "# Check if both columns exist (case-sensitive check)\n",
        "if 'Airport_fee' in df.columns and 'airport_fee' in df.columns:\n",
        "    # Fill NaN with 0 and combine values\n",
        "    df['airport_fee'] = df['Airport_fee'].fillna(0) + df['airport_fee'].fillna(0)\n",
        "\n",
        "    # Drop the uppercase column\n",
        "    df = df.drop(columns=['Airport_fee'])\n",
        "\n",
        "    print(\"\\nAfter combining airport fee columns:\")\n",
        "    print(df[['airport_fee']].head())\n",
        "else:\n",
        "    print(\"No duplicate airport fee columns found.\")"
      ]
    },
    {
      "cell_type": "markdown",
      "metadata": {
        "id": "1g4AHG7mOYgP"
      },
      "source": [
        "**2.1.3** <font color = red>[5 marks]</font> <br>\n",
        "Fix columns with negative (monetary) values"
      ]
    },
    {
      "cell_type": "code",
      "execution_count": 120,
      "metadata": {
        "id": "nBsMT2MII1Hv",
        "colab": {
          "base_uri": "https://localhost:8080/"
        },
        "outputId": "0e6174db-539c-489f-879c-32805938976d"
      },
      "outputs": [
        {
          "output_type": "stream",
          "name": "stdout",
          "text": [
            "Columns with negative values after fix:\n",
            " fare_amount              False\n",
            "extra                    False\n",
            "mta_tax                  False\n",
            "tip_amount               False\n",
            "tolls_amount             False\n",
            "improvement_surcharge    False\n",
            "total_amount             False\n",
            "congestion_surcharge     False\n",
            "airport_fee              False\n",
            "dtype: bool\n"
          ]
        }
      ],
      "source": [
        "# Define monetary columns\n",
        "monetary_columns = [\n",
        "    'fare_amount', 'extra', 'mta_tax', 'tip_amount',\n",
        "    'tolls_amount', 'improvement_surcharge', 'total_amount',\n",
        "    'congestion_surcharge', 'airport_fee'\n",
        "]\n",
        "\n",
        "# Replace negative values with 0 in all monetary columns\n",
        "df[monetary_columns] = df[monetary_columns].apply(lambda x: x.mask(x < 0, 0))\n",
        "\n",
        "# Verify no negatives remain\n",
        "negative_check = df[monetary_columns].lt(0).any()\n",
        "print(\"Columns with negative values after fix:\\n\", negative_check)"
      ]
    },
    {
      "cell_type": "markdown",
      "source": [
        "to be deleted\n",
        "\n",
        "Explanation:\n",
        "\n",
        "This code snippet addresses the issue of negative values in monetary columns within a pandas DataFrame (df). Negative monetary values are generally illogical in the context of taxi fares, so the code aims to correct them by replacing them with zeros.\n",
        "\n",
        "Define Monetary Columns:\n",
        "\n",
        "monetary_columns = ['fare_amount', 'extra', 'mta_tax', 'tip_amount', 'tolls_amount', 'improvement_surcharge', 'total_amount', 'congestion_surcharge', 'airport_fee']\n",
        "This line creates a list called monetary_columns containing the names of the columns that represent monetary values (e.g., fare amount, tip amount, etc.).\n",
        "These are the columns where negative values would be problematic.\n",
        "Replace Negative Values with 0:\n",
        "\n",
        "df[monetary_columns] = df[monetary_columns].apply(lambda x: x.mask(x < 0, 0))\n",
        "df[monetary_columns]: This selects the specified monetary columns from the DataFrame.\n",
        ".apply(lambda x: x.mask(x < 0, 0)): This applies a lambda function to each column (Series) in the selection.\n",
        "lambda x: x.mask(x < 0, 0): This is an anonymous function that takes a pandas Series (x) as input.\n",
        "x.mask(x < 0, 0): This uses the mask method of the Series to replace values that satisfy the condition x < 0 (i.e., negative values) with 0.\n",
        "The result of the apply operation (the modified columns) is then assigned back to the same columns in the DataFrame, effectively replacing the negative values.\n",
        "Verify No Negatives Remain:\n",
        "\n",
        "negative_check = df[monetary_columns].lt(0).any()\n",
        "df[monetary_columns].lt(0): This performs an element-wise \"less than 0\" comparison on the monetary columns, resulting in a DataFrame of boolean values (True if the value is negative, False otherwise).\n",
        ".any(): This method checks if any of the boolean values in each column are True (i.e., if any negative values exist in the column). It returns a pandas Series of boolean values, where the index is the column name, and the value is True if any negative value was found in that column, and false otherwise.\n",
        "print(\"Columns with negative values after fix:\\n\", negative_check)\n",
        "This line prints the result of the negative_check operation, showing which columns (if any) still contain negative values after the correction. Ideally, all values should be false.\n",
        "In summary, this code segment identifies monetary columns, corrects any negative values in those columns by setting them to zero, and then verifies that the correction was successful by checking for any remaining negative values.\n"
      ],
      "metadata": {
        "id": "7vEFfQ6gNpqM"
      }
    },
    {
      "cell_type": "markdown",
      "metadata": {
        "id": "JNKpDtTh8awi"
      },
      "source": [
        "Did you notice something different in the `RatecodeID` column for above records?"
      ]
    },
    {
      "cell_type": "code",
      "source": [
        "# # Analyse RatecodeID for the negative fare amounts\n",
        "# Check for negative fares\n",
        "neg_fares = df[df['fare_amount'] < 0]\n",
        "\n",
        "if not neg_fares.empty:\n",
        "    # Check RatecodeID values\n",
        "    print(\"RatecodeID for negative fares:\")\n",
        "    print(neg_fares['RatecodeID'].value_counts())\n",
        "\n",
        "    # Look for weird RatecodeID values\n",
        "    weird_codes = neg_fares[~neg_fares['RatecodeID'].isin([1,2,3,4,5,6])]\n",
        "    if not weird_codes.empty:\n",
        "        print(\"\\nWeird RatecodeIDs found:\")\n",
        "        print(weird_codes[['RatecodeID', 'fare_amount']])\n",
        "else:\n",
        "    print(\"No negative fares found. Skip RatecodeID check.\")\n",
        "\n"
      ],
      "metadata": {
        "id": "B5VVcJnSYINM",
        "outputId": "83bfdfb4-7423-43aa-8673-fbb0f4852364",
        "colab": {
          "base_uri": "https://localhost:8080/"
        }
      },
      "execution_count": 121,
      "outputs": [
        {
          "output_type": "stream",
          "name": "stdout",
          "text": [
            "No negative fares found. Skip RatecodeID check.\n"
          ]
        }
      ]
    },
    {
      "cell_type": "code",
      "execution_count": 122,
      "metadata": {
        "id": "Ruyh2vaCRNxr",
        "colab": {
          "base_uri": "https://localhost:8080/"
        },
        "outputId": "9408dcec-b124-4884-c566-82786a706b86"
      },
      "outputs": [
        {
          "output_type": "stream",
          "name": "stdout",
          "text": [
            "Columns with negative values:\n",
            "fare_amount              False\n",
            "extra                    False\n",
            "mta_tax                  False\n",
            "tip_amount               False\n",
            "tolls_amount             False\n",
            "improvement_surcharge    False\n",
            "total_amount             False\n",
            "congestion_surcharge     False\n",
            "airport_fee              False\n",
            "dtype: bool\n"
          ]
        }
      ],
      "source": [
        "# Find which columns have negative values\n",
        "# Check which columns have negatives\n",
        "money_cols = ['fare_amount', 'extra', 'mta_tax', 'tip_amount',\n",
        "              'tolls_amount', 'improvement_surcharge', 'total_amount',\n",
        "              'congestion_surcharge', 'airport_fee']\n",
        "\n",
        "has_negatives = df[money_cols].apply(lambda col: (col < 0).any())\n",
        "print(\"Columns with negative values:\")\n",
        "print(has_negatives)\n"
      ]
    },
    {
      "cell_type": "code",
      "execution_count": null,
      "metadata": {
        "id": "mPehZ6PJg3_J"
      },
      "outputs": [],
      "source": [
        "# fix these negative values\n",
        "#No negative values found\n"
      ]
    },
    {
      "cell_type": "code",
      "source": [
        "df.head(90)"
      ],
      "metadata": {
        "colab": {
          "base_uri": "https://localhost:8080/",
          "height": 444
        },
        "id": "fRMT1GjDDzj-",
        "outputId": "9bdd6887-361e-4f8e-dab9-4a45ec891619"
      },
      "execution_count": 123,
      "outputs": [
        {
          "output_type": "execute_result",
          "data": {
            "text/plain": [
              "    VendorID tpep_pickup_datetime tpep_dropoff_datetime  passenger_count  \\\n",
              "0          2  2023-08-31 23:56:01   2023-09-01 00:18:41              1.0   \n",
              "1          2  2023-09-01 00:22:07   2023-09-01 00:49:44              1.0   \n",
              "2          2  2023-09-01 00:40:20   2023-09-01 00:51:30              1.0   \n",
              "3          2  2023-09-01 00:29:50   2023-09-01 01:06:41              2.0   \n",
              "4          2  2023-09-01 00:07:05   2023-09-01 00:13:37              2.0   \n",
              "..       ...                  ...                   ...              ...   \n",
              "85         2  2023-09-01 00:10:46   2023-09-01 00:17:46              3.0   \n",
              "86         2  2023-09-01 00:22:26   2023-09-01 00:31:40              1.0   \n",
              "87         1  2023-09-01 00:32:21   2023-09-01 00:41:22              1.0   \n",
              "88         2  2023-09-01 00:29:31   2023-09-01 00:51:22              1.0   \n",
              "89         2  2023-09-01 00:32:11   2023-09-01 00:41:17              1.0   \n",
              "\n",
              "    trip_distance  RatecodeID  PULocationID  DOLocationID  payment_type  \\\n",
              "0            3.11         1.0           114           246             1   \n",
              "1            6.85         1.0           144           238             1   \n",
              "2            1.15         1.0           230           162             1   \n",
              "3           19.82         2.0           132           142             1   \n",
              "4            1.22         1.0           186           107             1   \n",
              "..            ...         ...           ...           ...           ...   \n",
              "85           2.21         1.0           114           186             1   \n",
              "86           2.24         1.0           170           114             2   \n",
              "87           1.50         1.0           230           140             1   \n",
              "88           5.19         1.0           170           226             1   \n",
              "89           1.41         1.0           162            48             2   \n",
              "\n",
              "    fare_amount  extra  mta_tax  tip_amount  tolls_amount  \\\n",
              "0          21.2    1.0      0.5        0.00          0.00   \n",
              "1          33.1    1.0      0.5        7.62          0.00   \n",
              "2          11.4    1.0      0.5        3.28          0.00   \n",
              "3          70.0    0.0      0.5       16.54          6.94   \n",
              "4           8.6    1.0      0.5        1.00          0.00   \n",
              "..          ...    ...      ...         ...           ...   \n",
              "85         11.4    1.0      0.5        3.28          0.00   \n",
              "86         12.1    1.0      0.5        0.00          0.00   \n",
              "87          9.3    3.5      0.5        2.85          0.00   \n",
              "88         25.4    1.0      0.5        6.08          0.00   \n",
              "89         10.0    1.0      0.5        0.00          0.00   \n",
              "\n",
              "    improvement_surcharge  total_amount  congestion_surcharge  airport_fee  \n",
              "0                     1.0         26.20                   2.5         0.00  \n",
              "1                     1.0         45.72                   2.5         0.00  \n",
              "2                     1.0         19.68                   2.5         0.00  \n",
              "3                     1.0         99.23                   2.5         1.75  \n",
              "4                     1.0         14.60                   2.5         0.00  \n",
              "..                    ...           ...                   ...          ...  \n",
              "85                    1.0         19.68                   2.5         0.00  \n",
              "86                    1.0         17.10                   2.5         0.00  \n",
              "87                    1.0         17.15                   2.5         0.00  \n",
              "88                    1.0         36.48                   2.5         0.00  \n",
              "89                    1.0         15.00                   2.5         0.00  \n",
              "\n",
              "[90 rows x 18 columns]"
            ],
            "text/html": [
              "\n",
              "  <div id=\"df-00fbf2d2-d28d-4e97-8219-b4fb3e1c6324\" class=\"colab-df-container\">\n",
              "    <div>\n",
              "<style scoped>\n",
              "    .dataframe tbody tr th:only-of-type {\n",
              "        vertical-align: middle;\n",
              "    }\n",
              "\n",
              "    .dataframe tbody tr th {\n",
              "        vertical-align: top;\n",
              "    }\n",
              "\n",
              "    .dataframe thead th {\n",
              "        text-align: right;\n",
              "    }\n",
              "</style>\n",
              "<table border=\"1\" class=\"dataframe\">\n",
              "  <thead>\n",
              "    <tr style=\"text-align: right;\">\n",
              "      <th></th>\n",
              "      <th>VendorID</th>\n",
              "      <th>tpep_pickup_datetime</th>\n",
              "      <th>tpep_dropoff_datetime</th>\n",
              "      <th>passenger_count</th>\n",
              "      <th>trip_distance</th>\n",
              "      <th>RatecodeID</th>\n",
              "      <th>PULocationID</th>\n",
              "      <th>DOLocationID</th>\n",
              "      <th>payment_type</th>\n",
              "      <th>fare_amount</th>\n",
              "      <th>extra</th>\n",
              "      <th>mta_tax</th>\n",
              "      <th>tip_amount</th>\n",
              "      <th>tolls_amount</th>\n",
              "      <th>improvement_surcharge</th>\n",
              "      <th>total_amount</th>\n",
              "      <th>congestion_surcharge</th>\n",
              "      <th>airport_fee</th>\n",
              "    </tr>\n",
              "  </thead>\n",
              "  <tbody>\n",
              "    <tr>\n",
              "      <th>0</th>\n",
              "      <td>2</td>\n",
              "      <td>2023-08-31 23:56:01</td>\n",
              "      <td>2023-09-01 00:18:41</td>\n",
              "      <td>1.0</td>\n",
              "      <td>3.11</td>\n",
              "      <td>1.0</td>\n",
              "      <td>114</td>\n",
              "      <td>246</td>\n",
              "      <td>1</td>\n",
              "      <td>21.2</td>\n",
              "      <td>1.0</td>\n",
              "      <td>0.5</td>\n",
              "      <td>0.00</td>\n",
              "      <td>0.00</td>\n",
              "      <td>1.0</td>\n",
              "      <td>26.20</td>\n",
              "      <td>2.5</td>\n",
              "      <td>0.00</td>\n",
              "    </tr>\n",
              "    <tr>\n",
              "      <th>1</th>\n",
              "      <td>2</td>\n",
              "      <td>2023-09-01 00:22:07</td>\n",
              "      <td>2023-09-01 00:49:44</td>\n",
              "      <td>1.0</td>\n",
              "      <td>6.85</td>\n",
              "      <td>1.0</td>\n",
              "      <td>144</td>\n",
              "      <td>238</td>\n",
              "      <td>1</td>\n",
              "      <td>33.1</td>\n",
              "      <td>1.0</td>\n",
              "      <td>0.5</td>\n",
              "      <td>7.62</td>\n",
              "      <td>0.00</td>\n",
              "      <td>1.0</td>\n",
              "      <td>45.72</td>\n",
              "      <td>2.5</td>\n",
              "      <td>0.00</td>\n",
              "    </tr>\n",
              "    <tr>\n",
              "      <th>2</th>\n",
              "      <td>2</td>\n",
              "      <td>2023-09-01 00:40:20</td>\n",
              "      <td>2023-09-01 00:51:30</td>\n",
              "      <td>1.0</td>\n",
              "      <td>1.15</td>\n",
              "      <td>1.0</td>\n",
              "      <td>230</td>\n",
              "      <td>162</td>\n",
              "      <td>1</td>\n",
              "      <td>11.4</td>\n",
              "      <td>1.0</td>\n",
              "      <td>0.5</td>\n",
              "      <td>3.28</td>\n",
              "      <td>0.00</td>\n",
              "      <td>1.0</td>\n",
              "      <td>19.68</td>\n",
              "      <td>2.5</td>\n",
              "      <td>0.00</td>\n",
              "    </tr>\n",
              "    <tr>\n",
              "      <th>3</th>\n",
              "      <td>2</td>\n",
              "      <td>2023-09-01 00:29:50</td>\n",
              "      <td>2023-09-01 01:06:41</td>\n",
              "      <td>2.0</td>\n",
              "      <td>19.82</td>\n",
              "      <td>2.0</td>\n",
              "      <td>132</td>\n",
              "      <td>142</td>\n",
              "      <td>1</td>\n",
              "      <td>70.0</td>\n",
              "      <td>0.0</td>\n",
              "      <td>0.5</td>\n",
              "      <td>16.54</td>\n",
              "      <td>6.94</td>\n",
              "      <td>1.0</td>\n",
              "      <td>99.23</td>\n",
              "      <td>2.5</td>\n",
              "      <td>1.75</td>\n",
              "    </tr>\n",
              "    <tr>\n",
              "      <th>4</th>\n",
              "      <td>2</td>\n",
              "      <td>2023-09-01 00:07:05</td>\n",
              "      <td>2023-09-01 00:13:37</td>\n",
              "      <td>2.0</td>\n",
              "      <td>1.22</td>\n",
              "      <td>1.0</td>\n",
              "      <td>186</td>\n",
              "      <td>107</td>\n",
              "      <td>1</td>\n",
              "      <td>8.6</td>\n",
              "      <td>1.0</td>\n",
              "      <td>0.5</td>\n",
              "      <td>1.00</td>\n",
              "      <td>0.00</td>\n",
              "      <td>1.0</td>\n",
              "      <td>14.60</td>\n",
              "      <td>2.5</td>\n",
              "      <td>0.00</td>\n",
              "    </tr>\n",
              "    <tr>\n",
              "      <th>...</th>\n",
              "      <td>...</td>\n",
              "      <td>...</td>\n",
              "      <td>...</td>\n",
              "      <td>...</td>\n",
              "      <td>...</td>\n",
              "      <td>...</td>\n",
              "      <td>...</td>\n",
              "      <td>...</td>\n",
              "      <td>...</td>\n",
              "      <td>...</td>\n",
              "      <td>...</td>\n",
              "      <td>...</td>\n",
              "      <td>...</td>\n",
              "      <td>...</td>\n",
              "      <td>...</td>\n",
              "      <td>...</td>\n",
              "      <td>...</td>\n",
              "      <td>...</td>\n",
              "    </tr>\n",
              "    <tr>\n",
              "      <th>85</th>\n",
              "      <td>2</td>\n",
              "      <td>2023-09-01 00:10:46</td>\n",
              "      <td>2023-09-01 00:17:46</td>\n",
              "      <td>3.0</td>\n",
              "      <td>2.21</td>\n",
              "      <td>1.0</td>\n",
              "      <td>114</td>\n",
              "      <td>186</td>\n",
              "      <td>1</td>\n",
              "      <td>11.4</td>\n",
              "      <td>1.0</td>\n",
              "      <td>0.5</td>\n",
              "      <td>3.28</td>\n",
              "      <td>0.00</td>\n",
              "      <td>1.0</td>\n",
              "      <td>19.68</td>\n",
              "      <td>2.5</td>\n",
              "      <td>0.00</td>\n",
              "    </tr>\n",
              "    <tr>\n",
              "      <th>86</th>\n",
              "      <td>2</td>\n",
              "      <td>2023-09-01 00:22:26</td>\n",
              "      <td>2023-09-01 00:31:40</td>\n",
              "      <td>1.0</td>\n",
              "      <td>2.24</td>\n",
              "      <td>1.0</td>\n",
              "      <td>170</td>\n",
              "      <td>114</td>\n",
              "      <td>2</td>\n",
              "      <td>12.1</td>\n",
              "      <td>1.0</td>\n",
              "      <td>0.5</td>\n",
              "      <td>0.00</td>\n",
              "      <td>0.00</td>\n",
              "      <td>1.0</td>\n",
              "      <td>17.10</td>\n",
              "      <td>2.5</td>\n",
              "      <td>0.00</td>\n",
              "    </tr>\n",
              "    <tr>\n",
              "      <th>87</th>\n",
              "      <td>1</td>\n",
              "      <td>2023-09-01 00:32:21</td>\n",
              "      <td>2023-09-01 00:41:22</td>\n",
              "      <td>1.0</td>\n",
              "      <td>1.50</td>\n",
              "      <td>1.0</td>\n",
              "      <td>230</td>\n",
              "      <td>140</td>\n",
              "      <td>1</td>\n",
              "      <td>9.3</td>\n",
              "      <td>3.5</td>\n",
              "      <td>0.5</td>\n",
              "      <td>2.85</td>\n",
              "      <td>0.00</td>\n",
              "      <td>1.0</td>\n",
              "      <td>17.15</td>\n",
              "      <td>2.5</td>\n",
              "      <td>0.00</td>\n",
              "    </tr>\n",
              "    <tr>\n",
              "      <th>88</th>\n",
              "      <td>2</td>\n",
              "      <td>2023-09-01 00:29:31</td>\n",
              "      <td>2023-09-01 00:51:22</td>\n",
              "      <td>1.0</td>\n",
              "      <td>5.19</td>\n",
              "      <td>1.0</td>\n",
              "      <td>170</td>\n",
              "      <td>226</td>\n",
              "      <td>1</td>\n",
              "      <td>25.4</td>\n",
              "      <td>1.0</td>\n",
              "      <td>0.5</td>\n",
              "      <td>6.08</td>\n",
              "      <td>0.00</td>\n",
              "      <td>1.0</td>\n",
              "      <td>36.48</td>\n",
              "      <td>2.5</td>\n",
              "      <td>0.00</td>\n",
              "    </tr>\n",
              "    <tr>\n",
              "      <th>89</th>\n",
              "      <td>2</td>\n",
              "      <td>2023-09-01 00:32:11</td>\n",
              "      <td>2023-09-01 00:41:17</td>\n",
              "      <td>1.0</td>\n",
              "      <td>1.41</td>\n",
              "      <td>1.0</td>\n",
              "      <td>162</td>\n",
              "      <td>48</td>\n",
              "      <td>2</td>\n",
              "      <td>10.0</td>\n",
              "      <td>1.0</td>\n",
              "      <td>0.5</td>\n",
              "      <td>0.00</td>\n",
              "      <td>0.00</td>\n",
              "      <td>1.0</td>\n",
              "      <td>15.00</td>\n",
              "      <td>2.5</td>\n",
              "      <td>0.00</td>\n",
              "    </tr>\n",
              "  </tbody>\n",
              "</table>\n",
              "<p>90 rows × 18 columns</p>\n",
              "</div>\n",
              "    <div class=\"colab-df-buttons\">\n",
              "\n",
              "  <div class=\"colab-df-container\">\n",
              "    <button class=\"colab-df-convert\" onclick=\"convertToInteractive('df-00fbf2d2-d28d-4e97-8219-b4fb3e1c6324')\"\n",
              "            title=\"Convert this dataframe to an interactive table.\"\n",
              "            style=\"display:none;\">\n",
              "\n",
              "  <svg xmlns=\"http://www.w3.org/2000/svg\" height=\"24px\" viewBox=\"0 -960 960 960\">\n",
              "    <path d=\"M120-120v-720h720v720H120Zm60-500h600v-160H180v160Zm220 220h160v-160H400v160Zm0 220h160v-160H400v160ZM180-400h160v-160H180v160Zm440 0h160v-160H620v160ZM180-180h160v-160H180v160Zm440 0h160v-160H620v160Z\"/>\n",
              "  </svg>\n",
              "    </button>\n",
              "\n",
              "  <style>\n",
              "    .colab-df-container {\n",
              "      display:flex;\n",
              "      gap: 12px;\n",
              "    }\n",
              "\n",
              "    .colab-df-convert {\n",
              "      background-color: #E8F0FE;\n",
              "      border: none;\n",
              "      border-radius: 50%;\n",
              "      cursor: pointer;\n",
              "      display: none;\n",
              "      fill: #1967D2;\n",
              "      height: 32px;\n",
              "      padding: 0 0 0 0;\n",
              "      width: 32px;\n",
              "    }\n",
              "\n",
              "    .colab-df-convert:hover {\n",
              "      background-color: #E2EBFA;\n",
              "      box-shadow: 0px 1px 2px rgba(60, 64, 67, 0.3), 0px 1px 3px 1px rgba(60, 64, 67, 0.15);\n",
              "      fill: #174EA6;\n",
              "    }\n",
              "\n",
              "    .colab-df-buttons div {\n",
              "      margin-bottom: 4px;\n",
              "    }\n",
              "\n",
              "    [theme=dark] .colab-df-convert {\n",
              "      background-color: #3B4455;\n",
              "      fill: #D2E3FC;\n",
              "    }\n",
              "\n",
              "    [theme=dark] .colab-df-convert:hover {\n",
              "      background-color: #434B5C;\n",
              "      box-shadow: 0px 1px 3px 1px rgba(0, 0, 0, 0.15);\n",
              "      filter: drop-shadow(0px 1px 2px rgba(0, 0, 0, 0.3));\n",
              "      fill: #FFFFFF;\n",
              "    }\n",
              "  </style>\n",
              "\n",
              "    <script>\n",
              "      const buttonEl =\n",
              "        document.querySelector('#df-00fbf2d2-d28d-4e97-8219-b4fb3e1c6324 button.colab-df-convert');\n",
              "      buttonEl.style.display =\n",
              "        google.colab.kernel.accessAllowed ? 'block' : 'none';\n",
              "\n",
              "      async function convertToInteractive(key) {\n",
              "        const element = document.querySelector('#df-00fbf2d2-d28d-4e97-8219-b4fb3e1c6324');\n",
              "        const dataTable =\n",
              "          await google.colab.kernel.invokeFunction('convertToInteractive',\n",
              "                                                    [key], {});\n",
              "        if (!dataTable) return;\n",
              "\n",
              "        const docLinkHtml = 'Like what you see? Visit the ' +\n",
              "          '<a target=\"_blank\" href=https://colab.research.google.com/notebooks/data_table.ipynb>data table notebook</a>'\n",
              "          + ' to learn more about interactive tables.';\n",
              "        element.innerHTML = '';\n",
              "        dataTable['output_type'] = 'display_data';\n",
              "        await google.colab.output.renderOutput(dataTable, element);\n",
              "        const docLink = document.createElement('div');\n",
              "        docLink.innerHTML = docLinkHtml;\n",
              "        element.appendChild(docLink);\n",
              "      }\n",
              "    </script>\n",
              "  </div>\n",
              "\n",
              "\n",
              "<div id=\"df-17b5cee4-b9de-4468-8cf4-b90c1539cb10\">\n",
              "  <button class=\"colab-df-quickchart\" onclick=\"quickchart('df-17b5cee4-b9de-4468-8cf4-b90c1539cb10')\"\n",
              "            title=\"Suggest charts\"\n",
              "            style=\"display:none;\">\n",
              "\n",
              "<svg xmlns=\"http://www.w3.org/2000/svg\" height=\"24px\"viewBox=\"0 0 24 24\"\n",
              "     width=\"24px\">\n",
              "    <g>\n",
              "        <path d=\"M19 3H5c-1.1 0-2 .9-2 2v14c0 1.1.9 2 2 2h14c1.1 0 2-.9 2-2V5c0-1.1-.9-2-2-2zM9 17H7v-7h2v7zm4 0h-2V7h2v10zm4 0h-2v-4h2v4z\"/>\n",
              "    </g>\n",
              "</svg>\n",
              "  </button>\n",
              "\n",
              "<style>\n",
              "  .colab-df-quickchart {\n",
              "      --bg-color: #E8F0FE;\n",
              "      --fill-color: #1967D2;\n",
              "      --hover-bg-color: #E2EBFA;\n",
              "      --hover-fill-color: #174EA6;\n",
              "      --disabled-fill-color: #AAA;\n",
              "      --disabled-bg-color: #DDD;\n",
              "  }\n",
              "\n",
              "  [theme=dark] .colab-df-quickchart {\n",
              "      --bg-color: #3B4455;\n",
              "      --fill-color: #D2E3FC;\n",
              "      --hover-bg-color: #434B5C;\n",
              "      --hover-fill-color: #FFFFFF;\n",
              "      --disabled-bg-color: #3B4455;\n",
              "      --disabled-fill-color: #666;\n",
              "  }\n",
              "\n",
              "  .colab-df-quickchart {\n",
              "    background-color: var(--bg-color);\n",
              "    border: none;\n",
              "    border-radius: 50%;\n",
              "    cursor: pointer;\n",
              "    display: none;\n",
              "    fill: var(--fill-color);\n",
              "    height: 32px;\n",
              "    padding: 0;\n",
              "    width: 32px;\n",
              "  }\n",
              "\n",
              "  .colab-df-quickchart:hover {\n",
              "    background-color: var(--hover-bg-color);\n",
              "    box-shadow: 0 1px 2px rgba(60, 64, 67, 0.3), 0 1px 3px 1px rgba(60, 64, 67, 0.15);\n",
              "    fill: var(--button-hover-fill-color);\n",
              "  }\n",
              "\n",
              "  .colab-df-quickchart-complete:disabled,\n",
              "  .colab-df-quickchart-complete:disabled:hover {\n",
              "    background-color: var(--disabled-bg-color);\n",
              "    fill: var(--disabled-fill-color);\n",
              "    box-shadow: none;\n",
              "  }\n",
              "\n",
              "  .colab-df-spinner {\n",
              "    border: 2px solid var(--fill-color);\n",
              "    border-color: transparent;\n",
              "    border-bottom-color: var(--fill-color);\n",
              "    animation:\n",
              "      spin 1s steps(1) infinite;\n",
              "  }\n",
              "\n",
              "  @keyframes spin {\n",
              "    0% {\n",
              "      border-color: transparent;\n",
              "      border-bottom-color: var(--fill-color);\n",
              "      border-left-color: var(--fill-color);\n",
              "    }\n",
              "    20% {\n",
              "      border-color: transparent;\n",
              "      border-left-color: var(--fill-color);\n",
              "      border-top-color: var(--fill-color);\n",
              "    }\n",
              "    30% {\n",
              "      border-color: transparent;\n",
              "      border-left-color: var(--fill-color);\n",
              "      border-top-color: var(--fill-color);\n",
              "      border-right-color: var(--fill-color);\n",
              "    }\n",
              "    40% {\n",
              "      border-color: transparent;\n",
              "      border-right-color: var(--fill-color);\n",
              "      border-top-color: var(--fill-color);\n",
              "    }\n",
              "    60% {\n",
              "      border-color: transparent;\n",
              "      border-right-color: var(--fill-color);\n",
              "    }\n",
              "    80% {\n",
              "      border-color: transparent;\n",
              "      border-right-color: var(--fill-color);\n",
              "      border-bottom-color: var(--fill-color);\n",
              "    }\n",
              "    90% {\n",
              "      border-color: transparent;\n",
              "      border-bottom-color: var(--fill-color);\n",
              "    }\n",
              "  }\n",
              "</style>\n",
              "\n",
              "  <script>\n",
              "    async function quickchart(key) {\n",
              "      const quickchartButtonEl =\n",
              "        document.querySelector('#' + key + ' button');\n",
              "      quickchartButtonEl.disabled = true;  // To prevent multiple clicks.\n",
              "      quickchartButtonEl.classList.add('colab-df-spinner');\n",
              "      try {\n",
              "        const charts = await google.colab.kernel.invokeFunction(\n",
              "            'suggestCharts', [key], {});\n",
              "      } catch (error) {\n",
              "        console.error('Error during call to suggestCharts:', error);\n",
              "      }\n",
              "      quickchartButtonEl.classList.remove('colab-df-spinner');\n",
              "      quickchartButtonEl.classList.add('colab-df-quickchart-complete');\n",
              "    }\n",
              "    (() => {\n",
              "      let quickchartButtonEl =\n",
              "        document.querySelector('#df-17b5cee4-b9de-4468-8cf4-b90c1539cb10 button');\n",
              "      quickchartButtonEl.style.display =\n",
              "        google.colab.kernel.accessAllowed ? 'block' : 'none';\n",
              "    })();\n",
              "  </script>\n",
              "</div>\n",
              "\n",
              "    </div>\n",
              "  </div>\n"
            ],
            "application/vnd.google.colaboratory.intrinsic+json": {
              "type": "dataframe",
              "variable_name": "df"
            }
          },
          "metadata": {},
          "execution_count": 123
        }
      ]
    },
    {
      "cell_type": "code",
      "source": [
        "df.info()"
      ],
      "metadata": {
        "colab": {
          "base_uri": "https://localhost:8080/"
        },
        "id": "xpdRiESDD-c0",
        "outputId": "b20ffc4d-e2bd-48f3-f6ee-e7376fb2283d"
      },
      "execution_count": 124,
      "outputs": [
        {
          "output_type": "stream",
          "name": "stdout",
          "text": [
            "<class 'pandas.core.frame.DataFrame'>\n",
            "RangeIndex: 1996062 entries, 0 to 1996061\n",
            "Data columns (total 18 columns):\n",
            " #   Column                 Dtype         \n",
            "---  ------                 -----         \n",
            " 0   VendorID               int64         \n",
            " 1   tpep_pickup_datetime   datetime64[us]\n",
            " 2   tpep_dropoff_datetime  datetime64[us]\n",
            " 3   passenger_count        float64       \n",
            " 4   trip_distance          float64       \n",
            " 5   RatecodeID             float64       \n",
            " 6   PULocationID           int64         \n",
            " 7   DOLocationID           int64         \n",
            " 8   payment_type           int64         \n",
            " 9   fare_amount            float64       \n",
            " 10  extra                  float64       \n",
            " 11  mta_tax                float64       \n",
            " 12  tip_amount             float64       \n",
            " 13  tolls_amount           float64       \n",
            " 14  improvement_surcharge  float64       \n",
            " 15  total_amount           float64       \n",
            " 16  congestion_surcharge   float64       \n",
            " 17  airport_fee            float64       \n",
            "dtypes: datetime64[us](2), float64(12), int64(4)\n",
            "memory usage: 274.1 MB\n"
          ]
        }
      ]
    },
    {
      "cell_type": "markdown",
      "metadata": {
        "id": "x2hakCCy6wXI"
      },
      "source": [
        "### **2.2** Handling Missing Values\n",
        "<font color = red>[10 marks]</font> <br>"
      ]
    },
    {
      "cell_type": "markdown",
      "metadata": {
        "id": "-K-QNPDVVhzR"
      },
      "source": [
        "**2.2.1**  <font color = red>[2 marks]</font> <br>\n",
        "Find the proportion of missing values in each column\n",
        "\n",
        "\n"
      ]
    },
    {
      "cell_type": "code",
      "execution_count": 125,
      "metadata": {
        "id": "tfTa9cct6Gec",
        "colab": {
          "base_uri": "https://localhost:8080/"
        },
        "outputId": "e03b1f88-e113-4206-dfbb-690658ad57ed"
      },
      "outputs": [
        {
          "output_type": "stream",
          "name": "stdout",
          "text": [
            "Proportion of missing values per column:\n",
            "VendorID                 0.000000\n",
            "tpep_pickup_datetime     0.000000\n",
            "tpep_dropoff_datetime    0.000000\n",
            "passenger_count          0.034291\n",
            "trip_distance            0.000000\n",
            "RatecodeID               0.034291\n",
            "PULocationID             0.000000\n",
            "DOLocationID             0.000000\n",
            "payment_type             0.000000\n",
            "fare_amount              0.000000\n",
            "extra                    0.000000\n",
            "mta_tax                  0.000000\n",
            "tip_amount               0.000000\n",
            "tolls_amount             0.000000\n",
            "improvement_surcharge    0.000000\n",
            "total_amount             0.000000\n",
            "congestion_surcharge     0.034291\n",
            "airport_fee              0.000000\n",
            "dtype: float64\n"
          ]
        }
      ],
      "source": [
        "# Find the proportion of missing values in each column\n",
        "missing = df.isnull().sum()\n",
        "\n",
        "# Calculate proportion\n",
        "prop_missing = missing / len(df)\n",
        "\n",
        "# Show results\n",
        "print(\"Proportion of missing values per column:\")\n",
        "print(prop_missing)\n"
      ]
    },
    {
      "cell_type": "markdown",
      "metadata": {
        "id": "-UdUl6AL_-E_"
      },
      "source": [
        "**2.2.2**  <font color = red>[3 marks]</font> <br>\n",
        "Handling missing values in `passenger_count`"
      ]
    },
    {
      "cell_type": "code",
      "execution_count": 126,
      "metadata": {
        "id": "JmNmhr4q8Xys",
        "colab": {
          "base_uri": "https://localhost:8080/"
        },
        "outputId": "47075d5e-3629-44ad-c777-0ecbb157b4f8"
      },
      "outputs": [
        {
          "output_type": "stream",
          "name": "stdout",
          "text": [
            "Rows with missing passenger_count:\n",
            "     VendorID tpep_pickup_datetime tpep_dropoff_datetime  passenger_count  \\\n",
            "132         2  2023-09-01 01:08:43   2023-09-01 01:27:27              NaN   \n",
            "150         1  2023-09-01 01:58:44   2023-09-01 02:16:51              NaN   \n",
            "177         2  2023-09-01 01:10:49   2023-09-01 01:19:41              NaN   \n",
            "\n",
            "     trip_distance  RatecodeID  PULocationID  DOLocationID  payment_type  \\\n",
            "132           4.98         NaN           144            61             0   \n",
            "150           0.00         NaN            79            42             0   \n",
            "177           1.53         NaN           246           234             0   \n",
            "\n",
            "     fare_amount  extra  mta_tax  tip_amount  tolls_amount  \\\n",
            "132        22.99    0.0      0.5        5.40           0.0   \n",
            "150        27.97    0.0      0.5        0.00           0.0   \n",
            "177        12.55    0.0      0.5        1.66           0.0   \n",
            "\n",
            "     improvement_surcharge  total_amount  congestion_surcharge  airport_fee  \n",
            "132                    1.0         32.39                   NaN          0.0  \n",
            "150                    1.0         31.97                   NaN          0.0  \n",
            "177                    1.0         18.21                   NaN          0.0  \n",
            "\n",
            "Number of rides with 0 passengers: 30794\n",
            "\n",
            "After fixing:\n",
            "Missing values: 0\n",
            "Zero values: 0\n"
          ]
        }
      ],
      "source": [
        "# Display the rows with null values\n",
        "# Impute NaN values in 'passenger_count'\n",
        "# Show rows with missing passenger_count\n",
        "print(\"Rows with missing passenger_count:\")\n",
        "print(df[df['passenger_count'].isnull()].head(3))\n",
        "\n",
        "# Check for zero values\n",
        "zero_passengers = (df['passenger_count'] == 0).sum()\n",
        "print(f\"\\nNumber of rides with 0 passengers: {zero_passengers}\")\n",
        "\n",
        "# Replace zeros and missing with median\n",
        "median_passengers = df['passenger_count'].median()\n",
        "df['passenger_count'] = df['passenger_count'].fillna(median_passengers)\n",
        "df['passenger_count'] = df['passenger_count'].replace(0, median_passengers)\n",
        "\n",
        "# Verify fix\n",
        "print(\"\\nAfter fixing:\")\n",
        "print(f\"Missing values: {df['passenger_count'].isnull().sum()}\")\n",
        "print(f\"Zero values: {(df['passenger_count'] == 0).sum()}\")\n"
      ]
    },
    {
      "cell_type": "markdown",
      "metadata": {
        "id": "hIPCyR6UCw0c"
      },
      "source": [
        "Did you find zeroes in passenger_count? Handle these."
      ]
    },
    {
      "cell_type": "markdown",
      "metadata": {
        "id": "IUr4fwkjBUTQ"
      },
      "source": [
        "**2.2.3**  <font color = red>[2 marks]</font> <br>\n",
        "Handle missing values in `RatecodeID`"
      ]
    },
    {
      "cell_type": "code",
      "execution_count": 127,
      "metadata": {
        "id": "qEgFxytzBkrB",
        "colab": {
          "base_uri": "https://localhost:8080/"
        },
        "outputId": "1d5f9a0c-f044-4218-bcb4-c5f3f039b077"
      },
      "outputs": [
        {
          "output_type": "stream",
          "name": "stdout",
          "text": [
            "Missing values after fix: 0\n",
            "Value counts:\n",
            "RatecodeID\n",
            "1.0     1887053\n",
            "2.0       76351\n",
            "99.0      11309\n",
            "5.0       11082\n",
            "3.0        6256\n",
            "4.0        4009\n",
            "6.0           2\n",
            "Name: count, dtype: int64\n"
          ]
        }
      ],
      "source": [
        "# Fix missing values in 'RatecodeID'\n",
        "# Check most common valid RatecodeID value (excluding NaN)\n",
        "valid_codes = [1, 2, 3, 4, 5, 6]\n",
        "common_code = df[df['RatecodeID'].isin(valid_codes)]['RatecodeID'].mode()[0]\n",
        "\n",
        "# Replace missing RatecodeID with most common valid code\n",
        "df['RatecodeID'] = df['RatecodeID'].fillna(common_code)\n",
        "\n",
        "# Verify fix\n",
        "print(\"Missing values after fix:\", df['RatecodeID'].isna().sum())\n",
        "print(\"Value counts:\")\n",
        "print(df['RatecodeID'].value_counts(dropna=False))"
      ]
    },
    {
      "cell_type": "code",
      "source": [
        "df.head(99)"
      ],
      "metadata": {
        "colab": {
          "base_uri": "https://localhost:8080/",
          "height": 444
        },
        "id": "ULYWVAbPOYP6",
        "outputId": "1c485fb2-64f1-4e58-d778-5b7bdb16cbb8"
      },
      "execution_count": 128,
      "outputs": [
        {
          "output_type": "execute_result",
          "data": {
            "text/plain": [
              "    VendorID tpep_pickup_datetime tpep_dropoff_datetime  passenger_count  \\\n",
              "0          2  2023-08-31 23:56:01   2023-09-01 00:18:41              1.0   \n",
              "1          2  2023-09-01 00:22:07   2023-09-01 00:49:44              1.0   \n",
              "2          2  2023-09-01 00:40:20   2023-09-01 00:51:30              1.0   \n",
              "3          2  2023-09-01 00:29:50   2023-09-01 01:06:41              2.0   \n",
              "4          2  2023-09-01 00:07:05   2023-09-01 00:13:37              2.0   \n",
              "..       ...                  ...                   ...              ...   \n",
              "94         2  2023-09-01 00:01:56   2023-09-01 00:21:15              4.0   \n",
              "95         2  2023-09-01 00:46:24   2023-09-01 00:48:48              1.0   \n",
              "96         2  2023-09-01 00:04:26   2023-09-01 00:29:45              1.0   \n",
              "97         1  2023-09-01 00:08:55   2023-09-01 00:21:27              2.0   \n",
              "98         2  2023-09-01 00:14:55   2023-09-01 00:26:43              1.0   \n",
              "\n",
              "    trip_distance  RatecodeID  PULocationID  DOLocationID  payment_type  \\\n",
              "0            3.11         1.0           114           246             1   \n",
              "1            6.85         1.0           144           238             1   \n",
              "2            1.15         1.0           230           162             1   \n",
              "3           19.82         2.0           132           142             1   \n",
              "4            1.22         1.0           186           107             1   \n",
              "..            ...         ...           ...           ...           ...   \n",
              "94           3.77         1.0           231           163             1   \n",
              "95           0.40         1.0           264           264             1   \n",
              "96           7.28         1.0           237           196             1   \n",
              "97           5.20         1.0           137            13             1   \n",
              "98           2.39         1.0           114            68             1   \n",
              "\n",
              "    fare_amount  extra  mta_tax  tip_amount  tolls_amount  \\\n",
              "0          21.2    1.0      0.5        0.00          0.00   \n",
              "1          33.1    1.0      0.5        7.62          0.00   \n",
              "2          11.4    1.0      0.5        3.28          0.00   \n",
              "3          70.0    0.0      0.5       16.54          6.94   \n",
              "4           8.6    1.0      0.5        1.00          0.00   \n",
              "..          ...    ...      ...         ...           ...   \n",
              "94         20.5    1.0      0.5        5.10          0.00   \n",
              "95          4.4    1.0      0.5        0.04          0.00   \n",
              "96         33.1    1.0      0.5        5.00          0.00   \n",
              "97         23.3    3.5      0.5        5.65          0.00   \n",
              "98         14.2    1.0      0.5        3.84          0.00   \n",
              "\n",
              "    improvement_surcharge  total_amount  congestion_surcharge  airport_fee  \n",
              "0                     1.0         26.20                   2.5         0.00  \n",
              "1                     1.0         45.72                   2.5         0.00  \n",
              "2                     1.0         19.68                   2.5         0.00  \n",
              "3                     1.0         99.23                   2.5         1.75  \n",
              "4                     1.0         14.60                   2.5         0.00  \n",
              "..                    ...           ...                   ...          ...  \n",
              "94                    1.0         30.60                   2.5         0.00  \n",
              "95                    1.0          9.44                   2.5         0.00  \n",
              "96                    1.0         43.10                   2.5         0.00  \n",
              "97                    1.0         33.95                   2.5         0.00  \n",
              "98                    1.0         23.04                   2.5         0.00  \n",
              "\n",
              "[99 rows x 18 columns]"
            ],
            "text/html": [
              "\n",
              "  <div id=\"df-c8062400-b608-41f9-a555-8231df6c642e\" class=\"colab-df-container\">\n",
              "    <div>\n",
              "<style scoped>\n",
              "    .dataframe tbody tr th:only-of-type {\n",
              "        vertical-align: middle;\n",
              "    }\n",
              "\n",
              "    .dataframe tbody tr th {\n",
              "        vertical-align: top;\n",
              "    }\n",
              "\n",
              "    .dataframe thead th {\n",
              "        text-align: right;\n",
              "    }\n",
              "</style>\n",
              "<table border=\"1\" class=\"dataframe\">\n",
              "  <thead>\n",
              "    <tr style=\"text-align: right;\">\n",
              "      <th></th>\n",
              "      <th>VendorID</th>\n",
              "      <th>tpep_pickup_datetime</th>\n",
              "      <th>tpep_dropoff_datetime</th>\n",
              "      <th>passenger_count</th>\n",
              "      <th>trip_distance</th>\n",
              "      <th>RatecodeID</th>\n",
              "      <th>PULocationID</th>\n",
              "      <th>DOLocationID</th>\n",
              "      <th>payment_type</th>\n",
              "      <th>fare_amount</th>\n",
              "      <th>extra</th>\n",
              "      <th>mta_tax</th>\n",
              "      <th>tip_amount</th>\n",
              "      <th>tolls_amount</th>\n",
              "      <th>improvement_surcharge</th>\n",
              "      <th>total_amount</th>\n",
              "      <th>congestion_surcharge</th>\n",
              "      <th>airport_fee</th>\n",
              "    </tr>\n",
              "  </thead>\n",
              "  <tbody>\n",
              "    <tr>\n",
              "      <th>0</th>\n",
              "      <td>2</td>\n",
              "      <td>2023-08-31 23:56:01</td>\n",
              "      <td>2023-09-01 00:18:41</td>\n",
              "      <td>1.0</td>\n",
              "      <td>3.11</td>\n",
              "      <td>1.0</td>\n",
              "      <td>114</td>\n",
              "      <td>246</td>\n",
              "      <td>1</td>\n",
              "      <td>21.2</td>\n",
              "      <td>1.0</td>\n",
              "      <td>0.5</td>\n",
              "      <td>0.00</td>\n",
              "      <td>0.00</td>\n",
              "      <td>1.0</td>\n",
              "      <td>26.20</td>\n",
              "      <td>2.5</td>\n",
              "      <td>0.00</td>\n",
              "    </tr>\n",
              "    <tr>\n",
              "      <th>1</th>\n",
              "      <td>2</td>\n",
              "      <td>2023-09-01 00:22:07</td>\n",
              "      <td>2023-09-01 00:49:44</td>\n",
              "      <td>1.0</td>\n",
              "      <td>6.85</td>\n",
              "      <td>1.0</td>\n",
              "      <td>144</td>\n",
              "      <td>238</td>\n",
              "      <td>1</td>\n",
              "      <td>33.1</td>\n",
              "      <td>1.0</td>\n",
              "      <td>0.5</td>\n",
              "      <td>7.62</td>\n",
              "      <td>0.00</td>\n",
              "      <td>1.0</td>\n",
              "      <td>45.72</td>\n",
              "      <td>2.5</td>\n",
              "      <td>0.00</td>\n",
              "    </tr>\n",
              "    <tr>\n",
              "      <th>2</th>\n",
              "      <td>2</td>\n",
              "      <td>2023-09-01 00:40:20</td>\n",
              "      <td>2023-09-01 00:51:30</td>\n",
              "      <td>1.0</td>\n",
              "      <td>1.15</td>\n",
              "      <td>1.0</td>\n",
              "      <td>230</td>\n",
              "      <td>162</td>\n",
              "      <td>1</td>\n",
              "      <td>11.4</td>\n",
              "      <td>1.0</td>\n",
              "      <td>0.5</td>\n",
              "      <td>3.28</td>\n",
              "      <td>0.00</td>\n",
              "      <td>1.0</td>\n",
              "      <td>19.68</td>\n",
              "      <td>2.5</td>\n",
              "      <td>0.00</td>\n",
              "    </tr>\n",
              "    <tr>\n",
              "      <th>3</th>\n",
              "      <td>2</td>\n",
              "      <td>2023-09-01 00:29:50</td>\n",
              "      <td>2023-09-01 01:06:41</td>\n",
              "      <td>2.0</td>\n",
              "      <td>19.82</td>\n",
              "      <td>2.0</td>\n",
              "      <td>132</td>\n",
              "      <td>142</td>\n",
              "      <td>1</td>\n",
              "      <td>70.0</td>\n",
              "      <td>0.0</td>\n",
              "      <td>0.5</td>\n",
              "      <td>16.54</td>\n",
              "      <td>6.94</td>\n",
              "      <td>1.0</td>\n",
              "      <td>99.23</td>\n",
              "      <td>2.5</td>\n",
              "      <td>1.75</td>\n",
              "    </tr>\n",
              "    <tr>\n",
              "      <th>4</th>\n",
              "      <td>2</td>\n",
              "      <td>2023-09-01 00:07:05</td>\n",
              "      <td>2023-09-01 00:13:37</td>\n",
              "      <td>2.0</td>\n",
              "      <td>1.22</td>\n",
              "      <td>1.0</td>\n",
              "      <td>186</td>\n",
              "      <td>107</td>\n",
              "      <td>1</td>\n",
              "      <td>8.6</td>\n",
              "      <td>1.0</td>\n",
              "      <td>0.5</td>\n",
              "      <td>1.00</td>\n",
              "      <td>0.00</td>\n",
              "      <td>1.0</td>\n",
              "      <td>14.60</td>\n",
              "      <td>2.5</td>\n",
              "      <td>0.00</td>\n",
              "    </tr>\n",
              "    <tr>\n",
              "      <th>...</th>\n",
              "      <td>...</td>\n",
              "      <td>...</td>\n",
              "      <td>...</td>\n",
              "      <td>...</td>\n",
              "      <td>...</td>\n",
              "      <td>...</td>\n",
              "      <td>...</td>\n",
              "      <td>...</td>\n",
              "      <td>...</td>\n",
              "      <td>...</td>\n",
              "      <td>...</td>\n",
              "      <td>...</td>\n",
              "      <td>...</td>\n",
              "      <td>...</td>\n",
              "      <td>...</td>\n",
              "      <td>...</td>\n",
              "      <td>...</td>\n",
              "      <td>...</td>\n",
              "    </tr>\n",
              "    <tr>\n",
              "      <th>94</th>\n",
              "      <td>2</td>\n",
              "      <td>2023-09-01 00:01:56</td>\n",
              "      <td>2023-09-01 00:21:15</td>\n",
              "      <td>4.0</td>\n",
              "      <td>3.77</td>\n",
              "      <td>1.0</td>\n",
              "      <td>231</td>\n",
              "      <td>163</td>\n",
              "      <td>1</td>\n",
              "      <td>20.5</td>\n",
              "      <td>1.0</td>\n",
              "      <td>0.5</td>\n",
              "      <td>5.10</td>\n",
              "      <td>0.00</td>\n",
              "      <td>1.0</td>\n",
              "      <td>30.60</td>\n",
              "      <td>2.5</td>\n",
              "      <td>0.00</td>\n",
              "    </tr>\n",
              "    <tr>\n",
              "      <th>95</th>\n",
              "      <td>2</td>\n",
              "      <td>2023-09-01 00:46:24</td>\n",
              "      <td>2023-09-01 00:48:48</td>\n",
              "      <td>1.0</td>\n",
              "      <td>0.40</td>\n",
              "      <td>1.0</td>\n",
              "      <td>264</td>\n",
              "      <td>264</td>\n",
              "      <td>1</td>\n",
              "      <td>4.4</td>\n",
              "      <td>1.0</td>\n",
              "      <td>0.5</td>\n",
              "      <td>0.04</td>\n",
              "      <td>0.00</td>\n",
              "      <td>1.0</td>\n",
              "      <td>9.44</td>\n",
              "      <td>2.5</td>\n",
              "      <td>0.00</td>\n",
              "    </tr>\n",
              "    <tr>\n",
              "      <th>96</th>\n",
              "      <td>2</td>\n",
              "      <td>2023-09-01 00:04:26</td>\n",
              "      <td>2023-09-01 00:29:45</td>\n",
              "      <td>1.0</td>\n",
              "      <td>7.28</td>\n",
              "      <td>1.0</td>\n",
              "      <td>237</td>\n",
              "      <td>196</td>\n",
              "      <td>1</td>\n",
              "      <td>33.1</td>\n",
              "      <td>1.0</td>\n",
              "      <td>0.5</td>\n",
              "      <td>5.00</td>\n",
              "      <td>0.00</td>\n",
              "      <td>1.0</td>\n",
              "      <td>43.10</td>\n",
              "      <td>2.5</td>\n",
              "      <td>0.00</td>\n",
              "    </tr>\n",
              "    <tr>\n",
              "      <th>97</th>\n",
              "      <td>1</td>\n",
              "      <td>2023-09-01 00:08:55</td>\n",
              "      <td>2023-09-01 00:21:27</td>\n",
              "      <td>2.0</td>\n",
              "      <td>5.20</td>\n",
              "      <td>1.0</td>\n",
              "      <td>137</td>\n",
              "      <td>13</td>\n",
              "      <td>1</td>\n",
              "      <td>23.3</td>\n",
              "      <td>3.5</td>\n",
              "      <td>0.5</td>\n",
              "      <td>5.65</td>\n",
              "      <td>0.00</td>\n",
              "      <td>1.0</td>\n",
              "      <td>33.95</td>\n",
              "      <td>2.5</td>\n",
              "      <td>0.00</td>\n",
              "    </tr>\n",
              "    <tr>\n",
              "      <th>98</th>\n",
              "      <td>2</td>\n",
              "      <td>2023-09-01 00:14:55</td>\n",
              "      <td>2023-09-01 00:26:43</td>\n",
              "      <td>1.0</td>\n",
              "      <td>2.39</td>\n",
              "      <td>1.0</td>\n",
              "      <td>114</td>\n",
              "      <td>68</td>\n",
              "      <td>1</td>\n",
              "      <td>14.2</td>\n",
              "      <td>1.0</td>\n",
              "      <td>0.5</td>\n",
              "      <td>3.84</td>\n",
              "      <td>0.00</td>\n",
              "      <td>1.0</td>\n",
              "      <td>23.04</td>\n",
              "      <td>2.5</td>\n",
              "      <td>0.00</td>\n",
              "    </tr>\n",
              "  </tbody>\n",
              "</table>\n",
              "<p>99 rows × 18 columns</p>\n",
              "</div>\n",
              "    <div class=\"colab-df-buttons\">\n",
              "\n",
              "  <div class=\"colab-df-container\">\n",
              "    <button class=\"colab-df-convert\" onclick=\"convertToInteractive('df-c8062400-b608-41f9-a555-8231df6c642e')\"\n",
              "            title=\"Convert this dataframe to an interactive table.\"\n",
              "            style=\"display:none;\">\n",
              "\n",
              "  <svg xmlns=\"http://www.w3.org/2000/svg\" height=\"24px\" viewBox=\"0 -960 960 960\">\n",
              "    <path d=\"M120-120v-720h720v720H120Zm60-500h600v-160H180v160Zm220 220h160v-160H400v160Zm0 220h160v-160H400v160ZM180-400h160v-160H180v160Zm440 0h160v-160H620v160ZM180-180h160v-160H180v160Zm440 0h160v-160H620v160Z\"/>\n",
              "  </svg>\n",
              "    </button>\n",
              "\n",
              "  <style>\n",
              "    .colab-df-container {\n",
              "      display:flex;\n",
              "      gap: 12px;\n",
              "    }\n",
              "\n",
              "    .colab-df-convert {\n",
              "      background-color: #E8F0FE;\n",
              "      border: none;\n",
              "      border-radius: 50%;\n",
              "      cursor: pointer;\n",
              "      display: none;\n",
              "      fill: #1967D2;\n",
              "      height: 32px;\n",
              "      padding: 0 0 0 0;\n",
              "      width: 32px;\n",
              "    }\n",
              "\n",
              "    .colab-df-convert:hover {\n",
              "      background-color: #E2EBFA;\n",
              "      box-shadow: 0px 1px 2px rgba(60, 64, 67, 0.3), 0px 1px 3px 1px rgba(60, 64, 67, 0.15);\n",
              "      fill: #174EA6;\n",
              "    }\n",
              "\n",
              "    .colab-df-buttons div {\n",
              "      margin-bottom: 4px;\n",
              "    }\n",
              "\n",
              "    [theme=dark] .colab-df-convert {\n",
              "      background-color: #3B4455;\n",
              "      fill: #D2E3FC;\n",
              "    }\n",
              "\n",
              "    [theme=dark] .colab-df-convert:hover {\n",
              "      background-color: #434B5C;\n",
              "      box-shadow: 0px 1px 3px 1px rgba(0, 0, 0, 0.15);\n",
              "      filter: drop-shadow(0px 1px 2px rgba(0, 0, 0, 0.3));\n",
              "      fill: #FFFFFF;\n",
              "    }\n",
              "  </style>\n",
              "\n",
              "    <script>\n",
              "      const buttonEl =\n",
              "        document.querySelector('#df-c8062400-b608-41f9-a555-8231df6c642e button.colab-df-convert');\n",
              "      buttonEl.style.display =\n",
              "        google.colab.kernel.accessAllowed ? 'block' : 'none';\n",
              "\n",
              "      async function convertToInteractive(key) {\n",
              "        const element = document.querySelector('#df-c8062400-b608-41f9-a555-8231df6c642e');\n",
              "        const dataTable =\n",
              "          await google.colab.kernel.invokeFunction('convertToInteractive',\n",
              "                                                    [key], {});\n",
              "        if (!dataTable) return;\n",
              "\n",
              "        const docLinkHtml = 'Like what you see? Visit the ' +\n",
              "          '<a target=\"_blank\" href=https://colab.research.google.com/notebooks/data_table.ipynb>data table notebook</a>'\n",
              "          + ' to learn more about interactive tables.';\n",
              "        element.innerHTML = '';\n",
              "        dataTable['output_type'] = 'display_data';\n",
              "        await google.colab.output.renderOutput(dataTable, element);\n",
              "        const docLink = document.createElement('div');\n",
              "        docLink.innerHTML = docLinkHtml;\n",
              "        element.appendChild(docLink);\n",
              "      }\n",
              "    </script>\n",
              "  </div>\n",
              "\n",
              "\n",
              "<div id=\"df-d6c572b8-ee73-443e-adf4-c1b4b356b5c2\">\n",
              "  <button class=\"colab-df-quickchart\" onclick=\"quickchart('df-d6c572b8-ee73-443e-adf4-c1b4b356b5c2')\"\n",
              "            title=\"Suggest charts\"\n",
              "            style=\"display:none;\">\n",
              "\n",
              "<svg xmlns=\"http://www.w3.org/2000/svg\" height=\"24px\"viewBox=\"0 0 24 24\"\n",
              "     width=\"24px\">\n",
              "    <g>\n",
              "        <path d=\"M19 3H5c-1.1 0-2 .9-2 2v14c0 1.1.9 2 2 2h14c1.1 0 2-.9 2-2V5c0-1.1-.9-2-2-2zM9 17H7v-7h2v7zm4 0h-2V7h2v10zm4 0h-2v-4h2v4z\"/>\n",
              "    </g>\n",
              "</svg>\n",
              "  </button>\n",
              "\n",
              "<style>\n",
              "  .colab-df-quickchart {\n",
              "      --bg-color: #E8F0FE;\n",
              "      --fill-color: #1967D2;\n",
              "      --hover-bg-color: #E2EBFA;\n",
              "      --hover-fill-color: #174EA6;\n",
              "      --disabled-fill-color: #AAA;\n",
              "      --disabled-bg-color: #DDD;\n",
              "  }\n",
              "\n",
              "  [theme=dark] .colab-df-quickchart {\n",
              "      --bg-color: #3B4455;\n",
              "      --fill-color: #D2E3FC;\n",
              "      --hover-bg-color: #434B5C;\n",
              "      --hover-fill-color: #FFFFFF;\n",
              "      --disabled-bg-color: #3B4455;\n",
              "      --disabled-fill-color: #666;\n",
              "  }\n",
              "\n",
              "  .colab-df-quickchart {\n",
              "    background-color: var(--bg-color);\n",
              "    border: none;\n",
              "    border-radius: 50%;\n",
              "    cursor: pointer;\n",
              "    display: none;\n",
              "    fill: var(--fill-color);\n",
              "    height: 32px;\n",
              "    padding: 0;\n",
              "    width: 32px;\n",
              "  }\n",
              "\n",
              "  .colab-df-quickchart:hover {\n",
              "    background-color: var(--hover-bg-color);\n",
              "    box-shadow: 0 1px 2px rgba(60, 64, 67, 0.3), 0 1px 3px 1px rgba(60, 64, 67, 0.15);\n",
              "    fill: var(--button-hover-fill-color);\n",
              "  }\n",
              "\n",
              "  .colab-df-quickchart-complete:disabled,\n",
              "  .colab-df-quickchart-complete:disabled:hover {\n",
              "    background-color: var(--disabled-bg-color);\n",
              "    fill: var(--disabled-fill-color);\n",
              "    box-shadow: none;\n",
              "  }\n",
              "\n",
              "  .colab-df-spinner {\n",
              "    border: 2px solid var(--fill-color);\n",
              "    border-color: transparent;\n",
              "    border-bottom-color: var(--fill-color);\n",
              "    animation:\n",
              "      spin 1s steps(1) infinite;\n",
              "  }\n",
              "\n",
              "  @keyframes spin {\n",
              "    0% {\n",
              "      border-color: transparent;\n",
              "      border-bottom-color: var(--fill-color);\n",
              "      border-left-color: var(--fill-color);\n",
              "    }\n",
              "    20% {\n",
              "      border-color: transparent;\n",
              "      border-left-color: var(--fill-color);\n",
              "      border-top-color: var(--fill-color);\n",
              "    }\n",
              "    30% {\n",
              "      border-color: transparent;\n",
              "      border-left-color: var(--fill-color);\n",
              "      border-top-color: var(--fill-color);\n",
              "      border-right-color: var(--fill-color);\n",
              "    }\n",
              "    40% {\n",
              "      border-color: transparent;\n",
              "      border-right-color: var(--fill-color);\n",
              "      border-top-color: var(--fill-color);\n",
              "    }\n",
              "    60% {\n",
              "      border-color: transparent;\n",
              "      border-right-color: var(--fill-color);\n",
              "    }\n",
              "    80% {\n",
              "      border-color: transparent;\n",
              "      border-right-color: var(--fill-color);\n",
              "      border-bottom-color: var(--fill-color);\n",
              "    }\n",
              "    90% {\n",
              "      border-color: transparent;\n",
              "      border-bottom-color: var(--fill-color);\n",
              "    }\n",
              "  }\n",
              "</style>\n",
              "\n",
              "  <script>\n",
              "    async function quickchart(key) {\n",
              "      const quickchartButtonEl =\n",
              "        document.querySelector('#' + key + ' button');\n",
              "      quickchartButtonEl.disabled = true;  // To prevent multiple clicks.\n",
              "      quickchartButtonEl.classList.add('colab-df-spinner');\n",
              "      try {\n",
              "        const charts = await google.colab.kernel.invokeFunction(\n",
              "            'suggestCharts', [key], {});\n",
              "      } catch (error) {\n",
              "        console.error('Error during call to suggestCharts:', error);\n",
              "      }\n",
              "      quickchartButtonEl.classList.remove('colab-df-spinner');\n",
              "      quickchartButtonEl.classList.add('colab-df-quickchart-complete');\n",
              "    }\n",
              "    (() => {\n",
              "      let quickchartButtonEl =\n",
              "        document.querySelector('#df-d6c572b8-ee73-443e-adf4-c1b4b356b5c2 button');\n",
              "      quickchartButtonEl.style.display =\n",
              "        google.colab.kernel.accessAllowed ? 'block' : 'none';\n",
              "    })();\n",
              "  </script>\n",
              "</div>\n",
              "\n",
              "    </div>\n",
              "  </div>\n"
            ],
            "application/vnd.google.colaboratory.intrinsic+json": {
              "type": "dataframe",
              "variable_name": "df"
            }
          },
          "metadata": {},
          "execution_count": 128
        }
      ]
    },
    {
      "cell_type": "code",
      "source": [
        "df.info()"
      ],
      "metadata": {
        "colab": {
          "base_uri": "https://localhost:8080/"
        },
        "id": "JSdHPzI5Ofsk",
        "outputId": "5acb3a73-2018-4d83-dad9-de14bd22f9e7"
      },
      "execution_count": 129,
      "outputs": [
        {
          "output_type": "stream",
          "name": "stdout",
          "text": [
            "<class 'pandas.core.frame.DataFrame'>\n",
            "RangeIndex: 1996062 entries, 0 to 1996061\n",
            "Data columns (total 18 columns):\n",
            " #   Column                 Dtype         \n",
            "---  ------                 -----         \n",
            " 0   VendorID               int64         \n",
            " 1   tpep_pickup_datetime   datetime64[us]\n",
            " 2   tpep_dropoff_datetime  datetime64[us]\n",
            " 3   passenger_count        float64       \n",
            " 4   trip_distance          float64       \n",
            " 5   RatecodeID             float64       \n",
            " 6   PULocationID           int64         \n",
            " 7   DOLocationID           int64         \n",
            " 8   payment_type           int64         \n",
            " 9   fare_amount            float64       \n",
            " 10  extra                  float64       \n",
            " 11  mta_tax                float64       \n",
            " 12  tip_amount             float64       \n",
            " 13  tolls_amount           float64       \n",
            " 14  improvement_surcharge  float64       \n",
            " 15  total_amount           float64       \n",
            " 16  congestion_surcharge   float64       \n",
            " 17  airport_fee            float64       \n",
            "dtypes: datetime64[us](2), float64(12), int64(4)\n",
            "memory usage: 274.1 MB\n"
          ]
        }
      ]
    },
    {
      "cell_type": "markdown",
      "metadata": {
        "id": "0TjHXzuODCUW"
      },
      "source": [
        "**2.2.4**  <font color = red>[3 marks]</font> <br>\n",
        "Impute NaN in `congestion_surcharge`"
      ]
    },
    {
      "cell_type": "code",
      "execution_count": 130,
      "metadata": {
        "id": "HqnabUGC3xOA",
        "colab": {
          "base_uri": "https://localhost:8080/"
        },
        "outputId": "7a5a07d3-1e46-48d0-cafc-806c197c9bf4"
      },
      "outputs": [
        {
          "output_type": "stream",
          "name": "stdout",
          "text": [
            "Remaining missing values:\n",
            "VendorID                 0\n",
            "tpep_pickup_datetime     0\n",
            "tpep_dropoff_datetime    0\n",
            "passenger_count          0\n",
            "trip_distance            0\n",
            "RatecodeID               0\n",
            "PULocationID             0\n",
            "DOLocationID             0\n",
            "payment_type             0\n",
            "fare_amount              0\n",
            "extra                    0\n",
            "mta_tax                  0\n",
            "tip_amount               0\n",
            "tolls_amount             0\n",
            "improvement_surcharge    0\n",
            "total_amount             0\n",
            "congestion_surcharge     0\n",
            "airport_fee              0\n",
            "dtype: int64\n",
            "\n",
            "After final fix:\n",
            "VendorID                 0\n",
            "tpep_pickup_datetime     0\n",
            "tpep_dropoff_datetime    0\n",
            "passenger_count          0\n",
            "trip_distance            0\n",
            "RatecodeID               0\n",
            "PULocationID             0\n",
            "DOLocationID             0\n",
            "payment_type             0\n",
            "fare_amount              0\n",
            "extra                    0\n",
            "mta_tax                  0\n",
            "tip_amount               0\n",
            "tolls_amount             0\n",
            "improvement_surcharge    0\n",
            "total_amount             0\n",
            "congestion_surcharge     0\n",
            "airport_fee              0\n",
            "dtype: int64\n"
          ]
        }
      ],
      "source": [
        "# handle null values in congestion_surcharge\n",
        "# Fix congestion_surcharge NaN values\n",
        "common_congestion = df['congestion_surcharge'].mode()[0]\n",
        "df['congestion_surcharge'] = df['congestion_surcharge'].fillna(common_congestion)\n",
        "\n",
        "# Check other columns for missing values\n",
        "print(\"Remaining missing values:\")\n",
        "print(df.isnull().sum())\n",
        "\n",
        "# Fill any remaining NaNs with 0 (for numeric columns)\n",
        "df = df.fillna(0)\n",
        "\n",
        "# Final check\n",
        "print(\"\\nAfter final fix:\")\n",
        "print(df.isnull().sum())\n",
        "\n"
      ]
    },
    {
      "cell_type": "markdown",
      "source": [
        "to be deleted\n",
        "Okay, let's tackle the user's problem step by step. The user has a DataFrame with taxi trip data and needs to handle missing values in two specific columns: 'congestion_surcharge' and any other remaining columns that might have NaNs. They also want the code to look simple and not AI-generated.\n",
        "\n",
        "First, I'll start with the 'congestion_surcharge' column. From the provided info, I can see that there are missing values here. The user's previous approach was to replace missing values in 'RatecodeID' with the mode. For 'congestion_surcharge', maybe using the median makes sense since it's a monetary value and might have outliers. But looking at the sample data, the congestion_surcharge is either 2.5 or 0.0. So perhaps the median isn't the best choice. Maybe the mode would be better here since it's a fixed charge. Wait, in the sample data, most entries have 2.5, but some have 0.0. Let me check the value counts. If 2.5 is the most common, replacing NaNs with 2.5 makes sense.\n",
        "\n",
        "Next, after handling 'congestion_surcharge', the user wants to check other columns for missing values. From the df.info(), most columns don't have missing values, but 'RatecodeID' had some before, which were handled. Maybe 'passenger_count' was already fixed. The user's previous code replaced zeros and NaNs in 'passenger_count' with the median. Now, the remaining columns to check might be 'airport_fee', 'extra', etc. But looking at the df.info(), all columns except 'congestion_surcharge' show non-null entries. So maybe 'congestion_surcharge' is the only one left with NaNs. But just to be safe, the code should check all columns for any remaining NaNs and handle them, perhaps by filling with 0 or another appropriate value.\n",
        "\n",
        "The user wants simple code, so avoiding complex functions. For 'congestion_surcharge', filling NaNs with the most frequent value (mode) seems appropriate. For other columns, if any NaNs are found, filling with 0 could be a quick fix since most monetary columns shouldn't have negatives, and 0 is a safe default.\n",
        "\n",
        "Now, putting this into code. First, handle 'congestion_surcharge' by filling NaNs with the mode. Then, check all columns for any remaining NaNs and fill them with 0. Use basic pandas functions like fillna and mode. Avoid using lambdas or advanced methods to keep it simple.\n",
        "\n",
        "Potential code steps:\n",
        "\n",
        "1. Find the mode of 'congestion_surcharge' (excluding NaNs).\n",
        "\n",
        "2. Fill NaNs in 'congestion_surcharge' with this mode.\n",
        "\n",
        "3. Check for any other NaNs in the DataFrame.\n",
        "\n",
        "4. Fill those remaining NaNs with 0.\n",
        "\n",
        "5. Verify by checking the sum of NaNs after fixing.\n",
        "\n",
        "Make sure to print out verification steps to confirm the fixes. Use straightforward variable names and minimal lines of code to keep it human-like.\n"
      ],
      "metadata": {
        "id": "B1JTXwJ1Q5EO"
      }
    },
    {
      "cell_type": "markdown",
      "metadata": {
        "id": "4FZEdgAgUbPl"
      },
      "source": [
        "Are there missing values in other columns? Did you find NaN values in some other set of columns? Handle those missing values below."
      ]
    },
    {
      "cell_type": "code",
      "execution_count": 131,
      "metadata": {
        "id": "iDLpyqCRXa3K",
        "colab": {
          "base_uri": "https://localhost:8080/"
        },
        "outputId": "2f42c8f7-ef40-4336-e553-507b12e85309"
      },
      "outputs": [
        {
          "output_type": "stream",
          "name": "stdout",
          "text": [
            "Final missing values after all fixes:\n",
            "VendorID                 0\n",
            "tpep_pickup_datetime     0\n",
            "tpep_dropoff_datetime    0\n",
            "passenger_count          0\n",
            "trip_distance            0\n",
            "RatecodeID               0\n",
            "PULocationID             0\n",
            "DOLocationID             0\n",
            "payment_type             0\n",
            "fare_amount              0\n",
            "extra                    0\n",
            "mta_tax                  0\n",
            "tip_amount               0\n",
            "tolls_amount             0\n",
            "improvement_surcharge    0\n",
            "total_amount             0\n",
            "congestion_surcharge     0\n",
            "airport_fee              0\n",
            "dtype: int64\n"
          ]
        }
      ],
      "source": [
        "# Handle any remaining missing values\n",
        "\n",
        "# Fill any remaining NaNs with 0 (if they exist)\n",
        "df = df.fillna(0)\n",
        "\n",
        "# Final check\n",
        "print(\"Final missing values after all fixes:\")\n",
        "print(df.isnull().sum())"
      ]
    },
    {
      "cell_type": "markdown",
      "metadata": {
        "id": "2jyQyYIpCztl"
      },
      "source": [
        "### **2.3** Handling Outliers\n",
        "<font color = red>[10 marks]</font> <br>"
      ]
    },
    {
      "cell_type": "markdown",
      "metadata": {
        "id": "ZoVwZzuEMTHB"
      },
      "source": [
        "Before we start fixing outliers, let's perform outlier analysis."
      ]
    },
    {
      "cell_type": "code",
      "execution_count": 132,
      "metadata": {
        "id": "zHK5K6uV8XpU",
        "colab": {
          "base_uri": "https://localhost:8080/"
        },
        "outputId": "079b425c-98de-4b94-ecad-c39c58e0a8fc"
      },
      "outputs": [
        {
          "output_type": "stream",
          "name": "stdout",
          "text": [
            "Data Summary:\n",
            "           VendorID        tpep_pickup_datetime       tpep_dropoff_datetime  \\\n",
            "count  1.996062e+06                     1996062                     1996062   \n",
            "mean   1.735951e+00  2023-07-02 20:01:16.700444  2023-07-02 20:18:44.339140   \n",
            "min    1.000000e+00         2022-12-31 23:36:04         2022-12-31 23:43:31   \n",
            "25%    1.000000e+00  2023-04-02 16:12:43.250000         2023-04-02 16:35:13   \n",
            "50%    2.000000e+00         2023-06-27 15:48:16         2023-06-27 16:10:21   \n",
            "75%    2.000000e+00  2023-10-06 19:41:02.500000  2023-10-06 19:58:33.750000   \n",
            "max    6.000000e+00         2023-12-31 23:56:33         2024-01-01 13:29:31   \n",
            "std    4.464608e-01                         NaN                         NaN   \n",
            "\n",
            "       passenger_count  trip_distance    RatecodeID  PULocationID  \\\n",
            "count     1.996062e+06   1.996062e+06  1.996062e+06  1.996062e+06   \n",
            "mean      1.372365e+00   3.957615e+00  1.627992e+00  1.652305e+02   \n",
            "min       1.000000e+00   0.000000e+00  1.000000e+00  1.000000e+00   \n",
            "25%       1.000000e+00   1.050000e+00  1.000000e+00  1.320000e+02   \n",
            "50%       1.000000e+00   1.800000e+00  1.000000e+00  1.620000e+02   \n",
            "75%       1.000000e+00   3.400000e+00  1.000000e+00  2.340000e+02   \n",
            "max       9.000000e+00   1.439264e+05  9.900000e+01  2.650000e+02   \n",
            "std       8.647171e-01   1.679323e+02  7.360457e+00  6.398731e+01   \n",
            "\n",
            "       DOLocationID  payment_type   fare_amount         extra       mta_tax  \\\n",
            "count  1.996062e+06  1.996062e+06  1.996062e+06  1.996062e+06  1.996062e+06   \n",
            "mean   1.640054e+02  1.163431e+00  1.990558e+01  1.582753e+00  4.952610e-01   \n",
            "min    1.000000e+00  0.000000e+00  0.000000e+00  0.000000e+00  0.000000e+00   \n",
            "25%    1.130000e+02  1.000000e+00  9.300000e+00  0.000000e+00  5.000000e-01   \n",
            "50%    1.620000e+02  1.000000e+00  1.350000e+01  1.000000e+00  5.000000e-01   \n",
            "75%    2.340000e+02  1.000000e+00  2.247000e+01  2.500000e+00  5.000000e-01   \n",
            "max    2.650000e+02  4.000000e+00  1.116700e+03  9.638000e+01  5.750000e+00   \n",
            "std    6.988150e+01  5.079381e-01  1.835974e+01  1.830231e+00  4.902509e-02   \n",
            "\n",
            "         tip_amount  tolls_amount  improvement_surcharge  total_amount  \\\n",
            "count  1.996062e+06  1.996062e+06           1.996062e+06  1.996062e+06   \n",
            "mean   3.556453e+00  5.999609e-01           9.990546e-01  2.898377e+01   \n",
            "min    0.000000e+00  0.000000e+00           0.000000e+00  0.000000e+00   \n",
            "25%    1.000000e+00  0.000000e+00           1.000000e+00  1.596000e+01   \n",
            "50%    2.850000e+00  0.000000e+00           1.000000e+00  2.100000e+01   \n",
            "75%    4.450000e+00  0.000000e+00           1.000000e+00  3.100000e+01   \n",
            "max    4.100000e+02  8.355000e+01           1.000000e+00  1.120700e+03   \n",
            "std    4.084584e+00  2.187518e+00           2.856308e-02  2.294268e+01   \n",
            "\n",
            "       congestion_surcharge   airport_fee  \n",
            "count          1.996062e+06  1.996062e+06  \n",
            "mean           2.314704e+00  1.387377e-01  \n",
            "min            0.000000e+00  0.000000e+00  \n",
            "25%            2.500000e+00  0.000000e+00  \n",
            "50%            2.500000e+00  0.000000e+00  \n",
            "75%            2.500000e+00  0.000000e+00  \n",
            "max            2.500000e+00  1.750000e+00  \n",
            "std            6.549090e-01  4.585885e-01  \n"
          ]
        }
      ],
      "source": [
        "# Describe the data and check if there are any potential outliers present\n",
        "# Check for potential out of place values in various columns\n",
        "print(\"Data Summary:\")\n",
        "print(df.describe())\n"
      ]
    },
    {
      "cell_type": "markdown",
      "metadata": {
        "id": "4XDuLkufyJ2g"
      },
      "source": [
        "**2.3.1**  <font color = red>[10 marks]</font> <br>\n",
        "Based on the above analysis, it seems that some of the outliers are present due to errors in registering the trips. Fix the outliers.\n",
        "\n",
        "Some points you can look for:\n",
        "- Entries where `trip_distance` is nearly 0 and `fare_amount` is more than 300\n",
        "- Entries where `trip_distance` and `fare_amount` are 0 but the pickup and dropoff zones are different (both distance and fare should not be zero for different zones)\n",
        "- Entries where `trip_distance` is more than 250  miles.\n",
        "- Entries where `payment_type` is 0 (there is no payment_type 0 defined in the data dictionary)\n",
        "\n",
        "These are just some suggestions. You can handle outliers in any way you wish, using the insights from above outlier analysis."
      ]
    },
    {
      "cell_type": "markdown",
      "metadata": {
        "id": "u-YNHI8tea9c"
      },
      "source": [
        "How will you fix each of these values? Which ones will you drop and which ones will you replace?"
      ]
    },
    {
      "cell_type": "markdown",
      "metadata": {
        "id": "Ap4IfwXO4yZe"
      },
      "source": [
        "First, let us remove 7+ passenger counts as there are very less instances."
      ]
    },
    {
      "cell_type": "code",
      "execution_count": 133,
      "metadata": {
        "id": "XfsOFY5y9-fA",
        "colab": {
          "base_uri": "https://localhost:8080/"
        },
        "outputId": "66a8bef8-8856-4f25-b79f-5bd6def5f436"
      },
      "outputs": [
        {
          "output_type": "stream",
          "name": "stdout",
          "text": [
            "Original row count: 1996062\n",
            "Rows after removing >6 passengers: 1996044\n"
          ]
        }
      ],
      "source": [
        "# remove passenger_count > 6\n",
        "# Remove unrealistic passenger counts\n",
        "print(\"Original row count:\", len(df))\n",
        "df = df[df['passenger_count'] <= 6]\n",
        "print(\"Rows after removing >6 passengers:\", len(df))"
      ]
    },
    {
      "cell_type": "code",
      "source": [
        "df.passenger_count.value_counts()"
      ],
      "metadata": {
        "colab": {
          "base_uri": "https://localhost:8080/",
          "height": 304
        },
        "id": "6Jn4htztj8wO",
        "outputId": "10e78f29-bbbc-4e38-fb16-a170be0721dd"
      },
      "execution_count": 134,
      "outputs": [
        {
          "output_type": "execute_result",
          "data": {
            "text/plain": [
              "passenger_count\n",
              "1.0    1549602\n",
              "2.0     290977\n",
              "3.0      72484\n",
              "4.0      41200\n",
              "5.0      25309\n",
              "6.0      16472\n",
              "Name: count, dtype: int64"
            ],
            "text/html": [
              "<div>\n",
              "<style scoped>\n",
              "    .dataframe tbody tr th:only-of-type {\n",
              "        vertical-align: middle;\n",
              "    }\n",
              "\n",
              "    .dataframe tbody tr th {\n",
              "        vertical-align: top;\n",
              "    }\n",
              "\n",
              "    .dataframe thead th {\n",
              "        text-align: right;\n",
              "    }\n",
              "</style>\n",
              "<table border=\"1\" class=\"dataframe\">\n",
              "  <thead>\n",
              "    <tr style=\"text-align: right;\">\n",
              "      <th></th>\n",
              "      <th>count</th>\n",
              "    </tr>\n",
              "    <tr>\n",
              "      <th>passenger_count</th>\n",
              "      <th></th>\n",
              "    </tr>\n",
              "  </thead>\n",
              "  <tbody>\n",
              "    <tr>\n",
              "      <th>1.0</th>\n",
              "      <td>1549602</td>\n",
              "    </tr>\n",
              "    <tr>\n",
              "      <th>2.0</th>\n",
              "      <td>290977</td>\n",
              "    </tr>\n",
              "    <tr>\n",
              "      <th>3.0</th>\n",
              "      <td>72484</td>\n",
              "    </tr>\n",
              "    <tr>\n",
              "      <th>4.0</th>\n",
              "      <td>41200</td>\n",
              "    </tr>\n",
              "    <tr>\n",
              "      <th>5.0</th>\n",
              "      <td>25309</td>\n",
              "    </tr>\n",
              "    <tr>\n",
              "      <th>6.0</th>\n",
              "      <td>16472</td>\n",
              "    </tr>\n",
              "  </tbody>\n",
              "</table>\n",
              "</div><br><label><b>dtype:</b> int64</label>"
            ]
          },
          "metadata": {},
          "execution_count": 134
        }
      ]
    },
    {
      "cell_type": "code",
      "execution_count": 135,
      "metadata": {
        "id": "FCUNe3tu8bie",
        "colab": {
          "base_uri": "https://localhost:8080/"
        },
        "outputId": "ea42bd2f-089f-4662-ebc9-1ec6e1ed67fa"
      },
      "outputs": [
        {
          "output_type": "stream",
          "name": "stdout",
          "text": [
            "Removed 36 trips with high fare and no distance\n",
            "Removed 88 impossible zero-fare trips\n",
            "Removed 46 unrealistic long trips\n",
            "\n",
            "Original payment types: [1 2 4 3 0]\n",
            "Updated payment types: [1 2 4 3]\n"
          ]
        }
      ],
      "source": [
        "# Continue with outlier handling\n",
        "# Remove bad trips with high fare but no distance\n",
        "high_fare_no_distance = df[(df['trip_distance'] < 0.1) & (df['fare_amount'] > 300)]\n",
        "df = df.drop(high_fare_no_distance.index)\n",
        "print(f\"Removed {len(high_fare_no_distance)} trips with high fare and no distance\")\n",
        "\n",
        "# Remove impossible zero-fare trips between different zones\n",
        "zero_fare_diff_zones = df[(df['fare_amount'] == 0) &\n",
        "                         (df['trip_distance'] == 0) &\n",
        "                         (df['PULocationID'] != df['DOLocationID'])]\n",
        "\n",
        "\n",
        "df = df.drop(zero_fare_diff_zones.index)\n",
        "print(f\"Removed {len(zero_fare_diff_zones)} impossible zero-fare trips\")\n",
        "\n",
        "# Remove unrealistic long trips\n",
        "long_distance = df[df['trip_distance'] > 250]\n",
        "df = df.drop(long_distance.index)\n",
        "print(f\"Removed {len(long_distance)} unrealistic long trips\")\n",
        "\n",
        "# Fix invalid payment types\n",
        "valid_payments = df['payment_type'].unique()\n",
        "print(\"\\nOriginal payment types:\", valid_payments)\n",
        "df['payment_type'] = df['payment_type'].replace(0, df['payment_type'].mode()[0])\n",
        "print(\"Updated payment types:\", df['payment_type'].unique())\n",
        "\n",
        "\n"
      ]
    },
    {
      "cell_type": "code",
      "execution_count": 136,
      "metadata": {
        "id": "PuzQXfuT8YKV",
        "colab": {
          "base_uri": "https://localhost:8080/"
        },
        "outputId": "060522b7-d948-4a5e-9fe7-fc55c0721cee"
      },
      "outputs": [
        {
          "output_type": "stream",
          "name": "stdout",
          "text": [
            "Column value ranges:\n",
            "Fare amount: $0.00 to $824.80\n",
            "Trip distance: 0.0 to 168.5 miles\n",
            "Total amount: $0.00 to $834.10\n",
            "\n",
            "Should we standardize?\n",
            "Yes - fare_amount has very high values\n"
          ]
        }
      ],
      "source": [
        "# Do any columns need standardising?\n",
        "print(\"Column value ranges:\")\n",
        "print(\"Fare amount: $%.2f to $%.2f\" % (df['fare_amount'].min(), df['fare_amount'].max()))  # Fixed .max()\n",
        "print(\"Trip distance: %.1f to %.1f miles\" % (df['trip_distance'].min(), df['trip_distance'].max()))  # Fixed .max()\n",
        "print(\"Total amount: $%.2f to $%.2f\" % (df['total_amount'].min(), df['total_amount'].max()))  # Fixed .max()\n",
        "\n",
        "print(\"\\nShould we standardize?\")\n",
        "if df['fare_amount'].max() > 100:\n",
        "    print(\"Yes - fare_amount has very high values\")\n",
        "else:\n",
        "    print(\"Maybe not urgent\")"
      ]
    },
    {
      "cell_type": "markdown",
      "metadata": {
        "id": "gPpJyFFNffcL"
      },
      "source": [
        "## **3** Exploratory Data Analysis\n",
        "<font color = red>[90 marks]</font> <br>"
      ]
    },
    {
      "cell_type": "code",
      "execution_count": 137,
      "metadata": {
        "id": "cl-0PcYTfkqh",
        "colab": {
          "base_uri": "https://localhost:8080/"
        },
        "outputId": "497eed88-b7af-4c5b-8cff-b2cf73a87b45"
      },
      "outputs": [
        {
          "output_type": "execute_result",
          "data": {
            "text/plain": [
              "['VendorID',\n",
              " 'tpep_pickup_datetime',\n",
              " 'tpep_dropoff_datetime',\n",
              " 'passenger_count',\n",
              " 'trip_distance',\n",
              " 'RatecodeID',\n",
              " 'PULocationID',\n",
              " 'DOLocationID',\n",
              " 'payment_type',\n",
              " 'fare_amount',\n",
              " 'extra',\n",
              " 'mta_tax',\n",
              " 'tip_amount',\n",
              " 'tolls_amount',\n",
              " 'improvement_surcharge',\n",
              " 'total_amount',\n",
              " 'congestion_surcharge',\n",
              " 'airport_fee']"
            ]
          },
          "metadata": {},
          "execution_count": 137
        }
      ],
      "source": [
        "df.columns.tolist()"
      ]
    },
    {
      "cell_type": "code",
      "source": [
        "# Create independent copy of the DataFrame\n",
        "df1 = df.copy()\n",
        "print(\"Original DataFrame shape:\", df.shape)\n",
        "print(\"New DataFrame shape:\", df1.shape)\n",
        "print(\"Columns in df1:\", df1.columns.tolist())"
      ],
      "metadata": {
        "colab": {
          "base_uri": "https://localhost:8080/"
        },
        "id": "raIUcsiXoh4M",
        "outputId": "7fd9bb66-3f9d-4f7a-8640-a036c9830d18"
      },
      "execution_count": 138,
      "outputs": [
        {
          "output_type": "stream",
          "name": "stdout",
          "text": [
            "Original DataFrame shape: (1995874, 18)\n",
            "New DataFrame shape: (1995874, 18)\n",
            "Columns in df1: ['VendorID', 'tpep_pickup_datetime', 'tpep_dropoff_datetime', 'passenger_count', 'trip_distance', 'RatecodeID', 'PULocationID', 'DOLocationID', 'payment_type', 'fare_amount', 'extra', 'mta_tax', 'tip_amount', 'tolls_amount', 'improvement_surcharge', 'total_amount', 'congestion_surcharge', 'airport_fee']\n"
          ]
        }
      ]
    },
    {
      "cell_type": "code",
      "source": [
        "df1.columns.tolist()"
      ],
      "metadata": {
        "colab": {
          "base_uri": "https://localhost:8080/"
        },
        "id": "iN4OE8hGooiK",
        "outputId": "82b9a423-b6fe-4552-984e-0cad28ad323b"
      },
      "execution_count": 142,
      "outputs": [
        {
          "output_type": "execute_result",
          "data": {
            "text/plain": [
              "['VendorID',\n",
              " 'tpep_pickup_datetime',\n",
              " 'tpep_dropoff_datetime',\n",
              " 'passenger_count',\n",
              " 'trip_distance',\n",
              " 'RatecodeID',\n",
              " 'PULocationID',\n",
              " 'DOLocationID',\n",
              " 'payment_type',\n",
              " 'fare_amount',\n",
              " 'extra',\n",
              " 'mta_tax',\n",
              " 'tip_amount',\n",
              " 'tolls_amount',\n",
              " 'improvement_surcharge',\n",
              " 'total_amount',\n",
              " 'congestion_surcharge',\n",
              " 'airport_fee']"
            ]
          },
          "metadata": {},
          "execution_count": 142
        }
      ]
    },
    {
      "cell_type": "markdown",
      "metadata": {
        "id": "a4N3PvkSTwcN"
      },
      "source": [
        "#### **3.1** General EDA: Finding Patterns and Trends\n",
        "<font color = red>[40 marks]</font> <br>"
      ]
    },
    {
      "cell_type": "markdown",
      "metadata": {
        "id": "9hwonDfZTJO6"
      },
      "source": [
        "**3.1.1** <font color = red>[3 marks]</font> <br>\n",
        "Categorise the varaibles into Numerical or Categorical.\n",
        "* `VendorID`:\n",
        "* `tpep_pickup_datetime`:\n",
        "* `tpep_dropoff_datetime`:\n",
        "* `passenger_count`:\n",
        "* `trip_distance`:\n",
        "* `RatecodeID`:\n",
        "* `PULocationID`:\n",
        "* `DOLocationID`:\n",
        "* `payment_type`:\n",
        "* `pickup_hour`:\n",
        "* `trip_duration`:\n",
        "\n",
        "\n",
        "The following monetary parameters belong in the same category, is it categorical or numerical?\n",
        "\n",
        "\n",
        "* `fare_amount`\n",
        "* `extra`\n",
        "* `mta_tax`\n",
        "* `tip_amount`\n",
        "* `tolls_amount`\n",
        "* `improvement_surcharge`\n",
        "* `total_amount`\n",
        "* `congestion_surcharge`\n",
        "* `airport_fee`"
      ]
    },
    {
      "cell_type": "code",
      "source": [
        "# Create lists for numerical and categorical variables\n",
        "numerical = []\n",
        "categorical = []\n",
        "\n",
        "for col in df1.columns:\n",
        "    if col in ['tpep_pickup_datetime', 'tpep_dropoff_datetime', 'VendorID',\n",
        "               'RatecodeID', 'PULocationID', 'DOLocationID', 'payment_type']:\n",
        "        categorical.append(col)\n",
        "    else:\n",
        "        numerical.append(col)\n",
        "\n",
        "print(\"Categorical Variables:\")\n",
        "print(categorical)\n",
        "print(\"\\nNumerical Variables:\")\n",
        "print(numerical)"
      ],
      "metadata": {
        "colab": {
          "base_uri": "https://localhost:8080/"
        },
        "id": "-9EWg_JypS01",
        "outputId": "f6622882-7846-4f1b-9fe6-f7dc724c9e81"
      },
      "execution_count": 140,
      "outputs": [
        {
          "output_type": "stream",
          "name": "stdout",
          "text": [
            "Categorical Variables:\n",
            "['VendorID', 'tpep_pickup_datetime', 'tpep_dropoff_datetime', 'RatecodeID', 'PULocationID', 'DOLocationID', 'payment_type']\n",
            "\n",
            "Numerical Variables:\n",
            "['passenger_count', 'trip_distance', 'fare_amount', 'extra', 'mta_tax', 'tip_amount', 'tolls_amount', 'improvement_surcharge', 'total_amount', 'congestion_surcharge', 'airport_fee']\n"
          ]
        }
      ]
    },
    {
      "cell_type": "code",
      "source": [
        "monetary_cols = ['fare_amount', 'extra', 'mta_tax', 'tip_amount',\n",
        "                'tolls_amount', 'improvement_surcharge', 'total_amount',\n",
        "                'congestion_surcharge', 'airport_fee']\n",
        "\n",
        "print(\"\\nMonetary parameters are:\", end=' ')\n",
        "if all(col in numerical for col in monetary_cols):\n",
        "    print(\"Numerical (continuous)\")\n",
        "else:\n",
        "    print(\"Categorical\")"
      ],
      "metadata": {
        "colab": {
          "base_uri": "https://localhost:8080/"
        },
        "id": "JgtcdmQRpWu8",
        "outputId": "ef09c1fc-a54e-4256-8d1e-3faa55406daa"
      },
      "execution_count": 143,
      "outputs": [
        {
          "output_type": "stream",
          "name": "stdout",
          "text": [
            "\n",
            "Monetary parameters are: Numerical (continuous)\n"
          ]
        }
      ]
    },
    {
      "cell_type": "markdown",
      "metadata": {
        "id": "MbGMjArkiXjL"
      },
      "source": [
        "##### Temporal Analysis"
      ]
    },
    {
      "cell_type": "markdown",
      "metadata": {
        "id": "ZCCbmQ49s2qj"
      },
      "source": [
        "**3.1.2** <font color = red>[5 marks]</font> <br>\n",
        "Analyse the distribution of taxi pickups by hours, days of the week, and months."
      ]
    },
    {
      "cell_type": "code",
      "execution_count": 144,
      "metadata": {
        "id": "RwgWN_MWg0Au",
        "colab": {
          "base_uri": "https://localhost:8080/",
          "height": 962
        },
        "outputId": "f993d712-134f-4c40-e9d3-19e06856bc32"
      },
      "outputs": [
        {
          "output_type": "stream",
          "name": "stdout",
          "text": [
            "Hourly Pickup Trends:\n",
            "pickup_hour\n",
            "0      56494\n",
            "1      37924\n",
            "2      25026\n",
            "3      16513\n",
            "4      11218\n",
            "5      11741\n",
            "6      27695\n",
            "7      54537\n",
            "8      75575\n",
            "9      85242\n",
            "10     92517\n",
            "11    100442\n",
            "12    109019\n",
            "13    112416\n",
            "14    120463\n",
            "15    123553\n",
            "16    123679\n",
            "17    134571\n",
            "18    140958\n",
            "19    125933\n",
            "20    112180\n",
            "21    112088\n",
            "22    103851\n",
            "23     82239\n",
            "dtype: int64\n"
          ]
        },
        {
          "output_type": "execute_result",
          "data": {
            "text/plain": [
              "<Axes: title={'center': 'Rides by Hour'}, xlabel='pickup_hour'>"
            ]
          },
          "metadata": {},
          "execution_count": 144
        },
        {
          "output_type": "display_data",
          "data": {
            "text/plain": [
              "<Figure size 640x480 with 1 Axes>"
            ],
            "image/png": "[encoded data removed]"
          },
          "metadata": {}
        }
      ],
      "source": [
        "# Find and show the hourly trends in taxi pickups\n",
        "# Extract hour from pickup time\n",
        "df1['pickup_hour'] = df1['tpep_pickup_datetime'].dt.hour\n",
        "\n",
        "# Count rides per hour\n",
        "hourly_trends = df1.groupby('pickup_hour').size()\n",
        "print(\"Hourly Pickup Trends:\")\n",
        "print(hourly_trends)\n",
        "\n",
        "# Simple plot\n",
        "hourly_trends.plot(kind='bar', title='Rides by Hour')\n"
      ]
    },
    {
      "cell_type": "code",
      "execution_count": 145,
      "metadata": {
        "id": "R64b8zfkG5OK",
        "colab": {
          "base_uri": "https://localhost:8080/",
          "height": 746
        },
        "outputId": "27b2373b-c0f3-4cff-e09d-b3b726ae6ea3"
      },
      "outputs": [
        {
          "output_type": "stream",
          "name": "stdout",
          "text": [
            "\n",
            "Daily Pickup Trends:\n",
            "pickup_day\n",
            "Monday       248718\n",
            "Tuesday      288684\n",
            "Wednesday    305785\n",
            "Thursday     312897\n",
            "Friday       297010\n",
            "Saturday     290611\n",
            "Sunday       252169\n",
            "dtype: int64\n"
          ]
        },
        {
          "output_type": "execute_result",
          "data": {
            "text/plain": [
              "<Axes: title={'center': 'Rides by Day'}, xlabel='pickup_day'>"
            ]
          },
          "metadata": {},
          "execution_count": 145
        },
        {
          "output_type": "display_data",
          "data": {
            "text/plain": [
              "<Figure size 640x480 with 1 Axes>"
            ],
            "image/png": "[encoded data removed]"
          },
          "metadata": {}
        }
      ],
      "source": [
        "# Find and show the daily trends in taxi pickups (days of the week)\n",
        "# Extract day names\n",
        "df1['pickup_day'] = df1['tpep_pickup_datetime'].dt.day_name()\n",
        "\n",
        "# Order days properly\n",
        "days_order = ['Monday', 'Tuesday', 'Wednesday', 'Thursday', 'Friday', 'Saturday', 'Sunday']\n",
        "daily_trends = df1.groupby('pickup_day').size().reindex(days_order)\n",
        "print(\"\\nDaily Pickup Trends:\")\n",
        "print(daily_trends)\n",
        "\n",
        "# Basic plot\n",
        "daily_trends.plot(kind='bar', title='Rides by Day')\n",
        "\n"
      ]
    },
    {
      "cell_type": "code",
      "execution_count": 146,
      "metadata": {
        "id": "H7V-jmRQG5hJ",
        "colab": {
          "base_uri": "https://localhost:8080/",
          "height": 771
        },
        "outputId": "55eb6280-2477-4344-cc92-3672afd8a793"
      },
      "outputs": [
        {
          "output_type": "stream",
          "name": "stdout",
          "text": [
            "\n",
            "Monthly Pickup Trends:\n",
            "pickup_month\n",
            "1     160061\n",
            "2     152026\n",
            "3     177544\n",
            "4     171458\n",
            "5     183203\n",
            "6     172364\n",
            "7     151316\n",
            "8     146980\n",
            "9     148257\n",
            "10    183413\n",
            "11    173810\n",
            "12    175442\n",
            "dtype: int64\n"
          ]
        },
        {
          "output_type": "execute_result",
          "data": {
            "text/plain": [
              "<Axes: title={'center': 'Rides by Month'}, xlabel='pickup_month'>"
            ]
          },
          "metadata": {},
          "execution_count": 146
        },
        {
          "output_type": "display_data",
          "data": {
            "text/plain": [
              "<Figure size 640x480 with 1 Axes>"
            ],
            "image/png": "[encoded data removed]"
          },
          "metadata": {}
        }
      ],
      "source": [
        "# Show the monthly trends in pickups\n",
        "# Extract month numbers\n",
        "df1['pickup_month'] = df1['tpep_pickup_datetime'].dt.month\n",
        "\n",
        "# Count rides per month\n",
        "monthly_trends = df1.groupby('pickup_month').size()\n",
        "print(\"\\nMonthly Pickup Trends:\")\n",
        "print(monthly_trends)\n",
        "\n",
        "# Simple visualization\n",
        "monthly_trends.plot(kind='bar', title='Rides by Month')\n"
      ]
    },
    {
      "cell_type": "markdown",
      "metadata": {
        "id": "23IqsgNjHNpJ"
      },
      "source": [
        "##### Financial Analysis"
      ]
    },
    {
      "cell_type": "markdown",
      "metadata": {
        "id": "fRaO-3NqHSM6"
      },
      "source": [
        "Take a look at the financial parameters like `fare_amount`, `tip_amount`, `total_amount`, and also `trip_distance`. Do these contain zero/negative values?"
      ]
    },
    {
      "cell_type": "code",
      "execution_count": 147,
      "metadata": {
        "id": "Z7JUnPeRHRqF",
        "colab": {
          "base_uri": "https://localhost:8080/"
        },
        "outputId": "d5d66050-3c7b-486a-d399-6fc69f1c231e"
      },
      "outputs": [
        {
          "output_type": "stream",
          "name": "stdout",
          "text": [
            "Zero/Negative Value Check:\n",
            "fare_amount:\n",
            "  Zeros: 629 | Negatives: 0\n",
            "tip_amount:\n",
            "  Zeros: 457586 | Negatives: 0\n",
            "total_amount:\n",
            "  Zeros: 381 | Negatives: 0\n",
            "trip_distance:\n",
            "  Zeros: 38265 | Negatives: 0\n"
          ]
        }
      ],
      "source": [
        "# Analyse the above parameters\n",
        "# Columns to check\n",
        "money_cols = ['fare_amount', 'tip_amount', 'total_amount', 'trip_distance']\n",
        "\n",
        "print(\"Zero/Negative Value Check:\")\n",
        "for col in money_cols:\n",
        "    # Count zeros\n",
        "    zero_count = (df1[col] == 0).sum()\n",
        "    # Count negatives\n",
        "    neg_count = (df1[col] < 0).sum()\n",
        "    print(f\"{col}:\")\n",
        "    print(f\"  Zeros: {zero_count} | Negatives: {neg_count}\")\n"
      ]
    },
    {
      "cell_type": "markdown",
      "metadata": {
        "id": "dbOS_-GDJTyv"
      },
      "source": [
        "Do you think it is beneficial to create a copy DataFrame leaving out the zero values from these?"
      ]
    },
    {
      "cell_type": "code",
      "source": [
        "# Only create copy if significant zeros exist\n",
        "df_clean = df1[\n",
        "    (df1['fare_amount'] > 0) &\n",
        "    (df1['tip_amount'] >= 0) &  # Tips can be 0\n",
        "    (df1['total_amount'] > 0) &\n",
        "    (df1['trip_distance'] > 0)\n",
        "].copy()\n",
        "\n",
        "# Fix 2: Better threshold logic (percentage-based)\n",
        "total_rows = len(df1)\n",
        "total_zeros = (df1[money_cols] == 0).sum().sum()\n",
        "\n",
        "if (total_zeros / total_rows) > 0.01:  # If >1% of total data has zeros\n",
        "    print(f\"High zero values ({total_zeros} zeros). Creating clean copy...\")\n",
        "    # (Use the df_clean code above)\n",
        "else:\n",
        "    print(\"Low zero impact. Skip cleanup.\")"
      ],
      "metadata": {
        "id": "wNGNGMPkzPye",
        "outputId": "ab74d753-7e79-47ba-b193-0aa5c5278651",
        "colab": {
          "base_uri": "https://localhost:8080/"
        }
      },
      "execution_count": 150,
      "outputs": [
        {
          "output_type": "stream",
          "name": "stdout",
          "text": [
            "High zero values (496861 zeros). Creating clean copy...\n"
          ]
        }
      ]
    },
    {
      "cell_type": "markdown",
      "metadata": {
        "id": "YDN14J63o9gV"
      },
      "source": [
        "**3.1.3** <font color = red>[2 marks]</font> <br>\n",
        "Filter out the zero values from the above columns.\n",
        "\n",
        "**Note:** The distance might be 0 in cases where pickup and drop is in the same zone. Do you think it is suitable to drop such cases of zero distance?"
      ]
    },
    {
      "cell_type": "code",
      "execution_count": null,
      "metadata": {
        "id": "5mk7Yp41JqJd"
      },
      "outputs": [],
      "source": [
        "# Create a df with non zero entries for the selected parameters.\n",
        "\n"
      ]
    },
    {
      "cell_type": "markdown",
      "metadata": {
        "id": "kJcgwyrtKivH"
      },
      "source": [
        "**3.1.4** <font color = red>[3 marks]</font> <br>\n",
        "Analyse the monthly revenue (`total_amount`) trend"
      ]
    },
    {
      "cell_type": "code",
      "execution_count": null,
      "metadata": {
        "id": "U_gl8rBD6ZH0"
      },
      "outputs": [],
      "source": [
        "# Group data by month and analyse monthly revenue\n",
        "\n"
      ]
    },
    {
      "cell_type": "markdown",
      "metadata": {
        "id": "3vQHosTZLalB"
      },
      "source": [
        "**3.1.5** <font color = red>[3 marks]</font> <br>\n",
        "Show the proportion of each quarter of the year in the revenue"
      ]
    },
    {
      "cell_type": "code",
      "execution_count": null,
      "metadata": {
        "id": "foV9BpFbVTbu"
      },
      "outputs": [],
      "source": [
        "# Calculate proportion of each quarter\n",
        "\n"
      ]
    },
    {
      "cell_type": "markdown",
      "metadata": {
        "id": "JncXEPjBLyHp"
      },
      "source": [
        "**3.1.6** <font color = red>[3 marks]</font> <br>\n",
        "Visualise the relationship between `trip_distance` and `fare_amount`. Also find the correlation value for these two.\n",
        "\n",
        "**Hint:** You can leave out the trips with trip_distance = 0"
      ]
    },
    {
      "cell_type": "code",
      "execution_count": null,
      "metadata": {
        "id": "-z8Fegh_P5At"
      },
      "outputs": [],
      "source": [
        "# Show how trip fare is affected by distance\n",
        "\n"
      ]
    },
    {
      "cell_type": "markdown",
      "metadata": {
        "id": "-OGNFTX4QdeS"
      },
      "source": [
        "**3.1.7** <font color = red>[5 marks]</font> <br>\n",
        "Find and visualise the correlation between:\n",
        "1. `fare_amount` and trip duration (pickup time to dropoff time)\n",
        "2. `fare_amount` and `passenger_count`\n",
        "3. `tip_amount` and `trip_distance`"
      ]
    },
    {
      "cell_type": "code",
      "execution_count": null,
      "metadata": {
        "id": "EtSNqFw19TB3"
      },
      "outputs": [],
      "source": [
        "# Show relationship between fare and trip duration\n",
        "\n"
      ]
    },
    {
      "cell_type": "code",
      "execution_count": null,
      "metadata": {
        "id": "oTrlXiBm9TB3"
      },
      "outputs": [],
      "source": [
        "# Show relationship between fare and number of passengers\n",
        "\n"
      ]
    },
    {
      "cell_type": "code",
      "execution_count": null,
      "metadata": {
        "id": "Lph7rakc9TB3"
      },
      "outputs": [],
      "source": [
        "# Show relationship between tip and trip distance\n",
        "\n"
      ]
    },
    {
      "cell_type": "markdown",
      "metadata": {
        "id": "3EL5CU47QJ5u"
      },
      "source": [
        "**3.1.8** <font color = red>[3 marks]</font> <br>\n",
        "Analyse the distribution of different payment types (`payment_type`)"
      ]
    },
    {
      "cell_type": "code",
      "execution_count": null,
      "metadata": {
        "id": "pknOiYLp9Wnd"
      },
      "outputs": [],
      "source": [
        "# Analyse the distribution of different payment types (payment_type).\n",
        "\n",
        "\n"
      ]
    },
    {
      "cell_type": "markdown",
      "metadata": {
        "id": "PxxbUmSZ9Wne"
      },
      "source": [
        "- 1= Credit card\n",
        "- 2= Cash\n",
        "- 3= No charge\n",
        "- 4= Dispute\n",
        "\n"
      ]
    },
    {
      "cell_type": "markdown",
      "metadata": {
        "id": "CVXxcSYHj9sh"
      },
      "source": [
        "##### Geographical Analysis"
      ]
    },
    {
      "cell_type": "markdown",
      "metadata": {
        "id": "tvBXuYW7kEyS"
      },
      "source": [
        "For this, you have to use the *taxi_zones.shp* file from the *taxi_zones* folder.\n",
        "\n",
        "There would be multiple files inside the folder (such as *.shx, .sbx, .sbn* etc). You do not need to import/read any of the files other than the shapefile, *taxi_zones.shp*.\n",
        "\n",
        "Do not change any folder structure - all the files need to be present inside the folder for it to work.\n",
        "\n",
        "The folder structure should look like this:\n",
        "```\n",
        "Taxi Zones\n",
        "|- taxi_zones.shp.xml\n",
        "|- taxi_zones.prj\n",
        "|- taxi_zones.sbn\n",
        "|- taxi_zones.shp\n",
        "|- taxi_zones.dbf\n",
        "|- taxi_zones.shx\n",
        "|- taxi_zones.sbx\n",
        "\n",
        " ```\n",
        "\n",
        " You only need to read the `taxi_zones.shp` file. The *shp* file will utilise the other files by itself."
      ]
    },
    {
      "cell_type": "markdown",
      "metadata": {
        "id": "hR8f8ypXUtxJ"
      },
      "source": [
        "We will use the *GeoPandas* library for geopgraphical analysis\n",
        "```\n",
        "import geopandas as gpd\n",
        "```\n",
        "\n",
        "More about geopandas and shapefiles: [About](https://geopandas.org/en/stable/about.html)\n",
        "\n",
        "\n",
        "Reading the shapefile is very similar to *Pandas*. Use `gpd.read_file()` function to load the data (*taxi_zones.shp*) as a GeoDataFrame. Documentation: [Reading and Writing Files](https://geopandas.org/en/stable/docs/user_guide/io.html)"
      ]
    },
    {
      "cell_type": "code",
      "execution_count": null,
      "metadata": {
        "id": "FJ76QD9IXNz8"
      },
      "outputs": [],
      "source": [
        "# !pip install geopandas"
      ]
    },
    {
      "cell_type": "markdown",
      "metadata": {
        "id": "q_QpZLl_WU-b"
      },
      "source": [
        "**3.1.9** <font color = red>[2 marks]</font> <br>\n",
        "Load the shapefile and display it."
      ]
    },
    {
      "cell_type": "code",
      "execution_count": null,
      "metadata": {
        "id": "hLyVd3TQkCdG"
      },
      "outputs": [],
      "source": [
        "# import geopandas as gpd\n",
        "\n",
        "\n",
        "# Read the shapefile using geopandas\n",
        "zones = # read the .shp file using gpd\n",
        "zones.head()"
      ]
    },
    {
      "cell_type": "markdown",
      "metadata": {
        "id": "8YXJMzRoWxeg"
      },
      "source": [
        "Now, if you look at the DataFrame created, you will see columns like: `OBJECTID`,`Shape_Leng`, `Shape_Area`, `zone`, `LocationID`, `borough`, `geometry`.\n",
        "<br><br>\n",
        "\n",
        "Now, the `locationID` here is also what we are using to mark pickup and drop zones in the trip records.\n",
        "\n",
        "The geometric parameters like shape length, shape area and geometry are used to plot the zones on a map.\n",
        "\n",
        "This can be easily done using the `plot()` method."
      ]
    },
    {
      "cell_type": "code",
      "execution_count": null,
      "metadata": {
        "id": "lTqdZChLYE6H"
      },
      "outputs": [],
      "source": [
        "# print(zones.info())\n",
        "# zones.plot()"
      ]
    },
    {
      "cell_type": "markdown",
      "metadata": {
        "id": "fBkWokLIY_BH"
      },
      "source": [
        "Now, you have to merge the trip records and zones data using the location IDs.\n",
        "\n"
      ]
    },
    {
      "cell_type": "markdown",
      "metadata": {
        "id": "YzUMLUjqaJLN"
      },
      "source": [
        "**3.1.10** <font color = red>[3 marks]</font> <br>\n",
        "Merge the zones data into trip data using the `locationID` and `PULocationID` columns."
      ]
    },
    {
      "cell_type": "code",
      "execution_count": null,
      "metadata": {
        "id": "A2L8hWMQaYkX"
      },
      "outputs": [],
      "source": [
        "# Merge zones and trip records using locationID and PULocationID\n",
        "\n"
      ]
    },
    {
      "cell_type": "markdown",
      "metadata": {
        "id": "9CYc36Weai5-"
      },
      "source": [
        "**3.1.11** <font color = red>[3 marks]</font> <br>\n",
        "Group data by location IDs to find the total number of trips per location ID"
      ]
    },
    {
      "cell_type": "code",
      "execution_count": null,
      "metadata": {
        "id": "XpTIaPSSbwZZ"
      },
      "outputs": [],
      "source": [
        "# Group data by location and calculate the number of trips\n",
        "\n"
      ]
    },
    {
      "cell_type": "markdown",
      "metadata": {
        "id": "As0dVJpdcK2_"
      },
      "source": [
        "**3.1.12** <font color = red>[2 marks]</font> <br>\n",
        "Now, use the grouped data to add number of trips to the GeoDataFrame.\n",
        "\n",
        "We will use this to plot a map of zones showing total trips per zone."
      ]
    },
    {
      "cell_type": "code",
      "execution_count": null,
      "metadata": {
        "id": "H9Sheg7vdZ6q"
      },
      "outputs": [],
      "source": [
        "# Merge trip counts back to the zones GeoDataFrame\n",
        "\n",
        "\n"
      ]
    },
    {
      "cell_type": "markdown",
      "metadata": {
        "id": "DsfomL6Od0_R"
      },
      "source": [
        "The next step is creating a color map (choropleth map) showing zones by the number of trips taken.\n",
        "\n",
        "Again, you can use the `zones.plot()` method for this. [Plot Method GPD](https://geopandas.org/en/stable/docs/reference/api/geopandas.GeoDataFrame.plot.html#geopandas.GeoDataFrame.plot)\n",
        "\n",
        "But first, you need to define the figure and axis for the plot.\n",
        "\n",
        "`fig, ax = plt.subplots(1, 1, figsize = (12, 10))`\n",
        "\n",
        "This function creates a figure (fig) and a single subplot (ax)\n",
        "\n",
        "---"
      ]
    },
    {
      "cell_type": "markdown",
      "metadata": {
        "id": "QgDcw8gUejVk"
      },
      "source": [
        "After setting up the figure and axis, we can proceed to plot the GeoDataFrame on this axis. This is done in the next step where we use the plot method of the GeoDataFrame.\n",
        "\n",
        "You can define the following parameters in the `zones.plot()` method:\n",
        "```\n",
        "column = '',\n",
        "ax = ax,\n",
        "legend = True,\n",
        "legend_kwds = {'label': \"label\", 'orientation': \"<horizontal/vertical>\"}\n",
        "```\n",
        "\n",
        "To display the plot, use `plt.show()`."
      ]
    },
    {
      "cell_type": "markdown",
      "metadata": {
        "id": "xFQmkJipfU1P"
      },
      "source": [
        "**3.1.13** <font color = red>[3 marks]</font> <br>\n",
        "Plot a color-coded map showing zone-wise trips"
      ]
    },
    {
      "cell_type": "code",
      "execution_count": null,
      "metadata": {
        "id": "i506kVTgefM5"
      },
      "outputs": [],
      "source": [
        "# Define figure and axis\n",
        "\n",
        "\n",
        "# Plot the map and display it\n",
        "\n"
      ]
    },
    {
      "cell_type": "code",
      "execution_count": null,
      "metadata": {
        "id": "gwDs7OaBSopP"
      },
      "outputs": [],
      "source": [
        "# can you try displaying the zones DF sorted by the number of trips?\n",
        "\n"
      ]
    },
    {
      "cell_type": "markdown",
      "metadata": {
        "id": "T1bE7-QbgSrZ"
      },
      "source": [
        "Here we have completed the temporal, financial and geographical analysis on the trip records.\n",
        "\n",
        "**Compile your findings from general analysis below:**"
      ]
    },
    {
      "cell_type": "markdown",
      "metadata": {
        "id": "7YiVFIX3gcL3"
      },
      "source": [
        "You can consider the following points:\n",
        "\n",
        "* Busiest hours, days and months\n",
        "* Trends in revenue collected\n",
        "* Trends in quarterly revenue\n",
        "* How fare depends on trip distance, trip duration and passenger counts\n",
        "* How tip amount depends on trip distance\n",
        "* Busiest zones\n"
      ]
    },
    {
      "cell_type": "markdown",
      "metadata": {
        "id": "Rv0oYLcbhOTU"
      },
      "source": [
        "#### **3.2** Detailed EDA: Insights and Strategies\n",
        "<font color = red>[50 marks]</font> <br>"
      ]
    },
    {
      "cell_type": "markdown",
      "metadata": {
        "id": "xWJk-CGihnU1"
      },
      "source": [
        "Having performed basic analyses for finding trends and patterns, we will now move on to some detailed analysis focussed on operational efficiency, pricing strategies, and customer experience."
      ]
    },
    {
      "cell_type": "markdown",
      "metadata": {
        "id": "XBY2Y4Jrz9IQ"
      },
      "source": [
        "##### Operational Efficiency"
      ]
    },
    {
      "cell_type": "markdown",
      "metadata": {
        "id": "BXU8Q3sGjGnE"
      },
      "source": [
        "Analyze variations by time of day and location to identify bottlenecks or inefficiencies in routes"
      ]
    },
    {
      "cell_type": "markdown",
      "metadata": {
        "id": "H97VPqVdq7Lz"
      },
      "source": [
        "**3.2.1** <font color = red>[3 marks]</font> <br>\n",
        "Identify slow routes by calculating the average time taken by cabs to get from one zone to another at different hours of the day."
      ]
    },
    {
      "cell_type": "markdown",
      "metadata": {
        "id": "NzTRZyw2q9IR"
      },
      "source": [
        "Speed on a route *X* for hour *Y* = (*distance of the route X / average trip duration for hour Y*)"
      ]
    },
    {
      "cell_type": "code",
      "execution_count": null,
      "metadata": {
        "id": "Ovf-1vIyhk7E"
      },
      "outputs": [],
      "source": [
        "# Find routes which have the slowest speeds at different times of the day\n",
        "\n"
      ]
    },
    {
      "cell_type": "markdown",
      "metadata": {
        "id": "NmRPbH3rm2Ub"
      },
      "source": [
        "How does identifying high-traffic, high-demand routes help us?"
      ]
    },
    {
      "cell_type": "markdown",
      "metadata": {
        "id": "7-w-OCB_nLmb"
      },
      "source": [
        "**3.2.2** <font color = red>[3 marks]</font> <br>\n",
        "Calculate the number of trips at each hour of the day and visualise them. Find the busiest hour and show the number of trips for that hour."
      ]
    },
    {
      "cell_type": "code",
      "execution_count": null,
      "metadata": {
        "id": "BEbRCT31nLUw"
      },
      "outputs": [],
      "source": [
        "# Visualise the number of trips per hour and find the busiest hour\n",
        "\n"
      ]
    },
    {
      "cell_type": "markdown",
      "metadata": {
        "id": "8FuSAA0zn3F4"
      },
      "source": [
        "Remember, we took a fraction of trips. To find the actual number, you have to scale the number up by the sampling ratio."
      ]
    },
    {
      "cell_type": "markdown",
      "metadata": {
        "id": "bapn075QrKaz"
      },
      "source": [
        "**3.2.3** <font color = red>[2 mark]</font> <br>\n",
        "Find the actual number of trips in the five busiest hours"
      ]
    },
    {
      "cell_type": "code",
      "execution_count": null,
      "metadata": {
        "id": "79Hy-YWOoapQ"
      },
      "outputs": [],
      "source": [
        "# Scale up the number of trips\n",
        "\n",
        "# Fill in the value of your sampling fraction and use that to scale up the numbers\n",
        "sample_fraction =\n",
        "\n"
      ]
    },
    {
      "cell_type": "markdown",
      "metadata": {
        "id": "74fhoLxEoaTP"
      },
      "source": [
        "**3.2.4** <font color = red>[3 marks]</font> <br>\n",
        "Compare hourly traffic pattern on weekdays. Also compare for weekend."
      ]
    },
    {
      "cell_type": "code",
      "execution_count": null,
      "metadata": {
        "id": "sYMmCQHwpFRY"
      },
      "outputs": [],
      "source": [
        "# Compare traffic trends for the week days and weekends\n",
        "\n"
      ]
    },
    {
      "cell_type": "markdown",
      "metadata": {
        "id": "tWeuAulNpSOL"
      },
      "source": [
        "What can you infer from the above patterns? How will finding busy and quiet hours for each day help us?"
      ]
    },
    {
      "cell_type": "markdown",
      "metadata": {
        "id": "-S90VG94rGUm"
      },
      "source": [
        "**3.2.5** <font color = red>[3 marks]</font> <br>\n",
        "Identify top 10 zones with high hourly pickups. Do the same for hourly dropoffs. Show pickup and dropoff trends in these zones."
      ]
    },
    {
      "cell_type": "code",
      "execution_count": null,
      "metadata": {
        "id": "-nJGifJFrslP"
      },
      "outputs": [],
      "source": [
        "# Find top 10 pickup and dropoff zones\n",
        "\n"
      ]
    },
    {
      "cell_type": "markdown",
      "metadata": {
        "id": "okkQ17VssMqP"
      },
      "source": [
        "**3.2.6** <font color = red>[3 marks]</font> <br>\n",
        "Find the ratio of pickups and dropoffs in each zone. Display the 10 highest (pickup/drop) and 10 lowest (pickup/drop) ratios."
      ]
    },
    {
      "cell_type": "code",
      "execution_count": null,
      "metadata": {
        "id": "Qbuc8y-KgeDR"
      },
      "outputs": [],
      "source": [
        "# Find the top 10 and bottom 10 pickup/dropoff ratios\n",
        "\n"
      ]
    },
    {
      "cell_type": "markdown",
      "metadata": {
        "id": "2j1ukv-rrxny"
      },
      "source": [
        "**3.2.7** <font color = red>[3 marks]</font> <br>\n",
        "Identify zones with high pickup and dropoff traffic during night hours (11PM to 5AM)"
      ]
    },
    {
      "cell_type": "code",
      "execution_count": null,
      "metadata": {
        "id": "ve65f0GltyE_"
      },
      "outputs": [],
      "source": [
        "# During night hours (11pm to 5am) find the top 10 pickup and dropoff zones\n",
        "# Note that the top zones should be of night hours and not the overall top zones\n",
        "\n"
      ]
    },
    {
      "cell_type": "markdown",
      "metadata": {
        "id": "OtPTHyhTNnNL"
      },
      "source": [
        "Now, let us find the revenue share for the night time hours and the day time hours. After this, we will move to deciding a pricing strategy.\n",
        "\n",
        "**3.2.8** <font color = red>[2 marks]</font> <br>\n",
        "Find the revenue share for nighttime and daytime hours."
      ]
    },
    {
      "cell_type": "code",
      "execution_count": null,
      "metadata": {
        "id": "0ohk4curNl3g"
      },
      "outputs": [],
      "source": [
        "# Filter for night hours (11 PM to 5 AM)\n",
        "\n"
      ]
    },
    {
      "cell_type": "markdown",
      "metadata": {
        "id": "nG77smP4tyWu"
      },
      "source": [
        "##### Pricing Strategy"
      ]
    },
    {
      "cell_type": "markdown",
      "metadata": {
        "id": "ciF6eThit5IH"
      },
      "source": [
        "**3.2.9** <font color = red>[2 marks]</font> <br>\n",
        "For the different passenger counts, find the average fare per mile per passenger.\n",
        "\n",
        "For instance, suppose the average fare per mile for trips with 3 passengers is 3 USD/mile, then the fare per mile per passenger will be 1 USD/mile."
      ]
    },
    {
      "cell_type": "code",
      "execution_count": null,
      "metadata": {
        "id": "AO7MIuXd9C16"
      },
      "outputs": [],
      "source": [
        "# Analyse the fare per mile per passenger for different passenger counts\n",
        "\n",
        "\n"
      ]
    },
    {
      "cell_type": "markdown",
      "metadata": {
        "id": "WZrN-cxR9DIb"
      },
      "source": [
        "**3.2.10** <font color = red>[3 marks]</font> <br>\n",
        "Find the average fare per mile by hours of the day and by days of the week"
      ]
    },
    {
      "cell_type": "code",
      "execution_count": null,
      "metadata": {
        "id": "hUzCJm2y9SOq"
      },
      "outputs": [],
      "source": [
        "# Compare the average fare per mile for different days and for different times of the day\n",
        "\n"
      ]
    },
    {
      "cell_type": "markdown",
      "metadata": {
        "id": "211WFkhHDUMG"
      },
      "source": [
        "**3.2.11** <font color = red>[3 marks]</font> <br>\n",
        "Analyse the average fare per mile for the different vendors for different hours of the day"
      ]
    },
    {
      "cell_type": "code",
      "execution_count": null,
      "metadata": {
        "id": "my3cGHL1DU04"
      },
      "outputs": [],
      "source": [
        "# Compare fare per mile for different vendors\n",
        "\n"
      ]
    },
    {
      "cell_type": "markdown",
      "metadata": {
        "id": "FH9YJdodtDk4"
      },
      "source": [
        "**3.2.12** <font color = red>[5 marks]</font> <br>\n",
        "Compare the fare rates of the different vendors in a tiered fashion. Analyse the average fare per mile for distances upto 2 miles. Analyse the fare per mile for distances from 2 to 5 miles. And then for distances more than 5 miles.\n"
      ]
    },
    {
      "cell_type": "code",
      "execution_count": null,
      "metadata": {
        "id": "TFRPgO7mgEeT"
      },
      "outputs": [],
      "source": [
        "# Defining distance tiers\n",
        "\n"
      ]
    },
    {
      "cell_type": "markdown",
      "metadata": {
        "id": "M2o6xY0Yh6Gv"
      },
      "source": [
        "##### Customer Experience and Other Factors"
      ]
    },
    {
      "cell_type": "markdown",
      "metadata": {
        "id": "VSneN-rCh6Gw"
      },
      "source": [
        "**3.2.13** <font color = red>[5 marks]</font> <br>\n",
        "Analyse average tip percentages based on trip distances, passenger counts and time of pickup. What factors lead to low tip percentages?"
      ]
    },
    {
      "cell_type": "code",
      "execution_count": null,
      "metadata": {
        "id": "LO5WazK8h6Gx"
      },
      "outputs": [],
      "source": [
        "#  Analyze tip percentages based on distances, passenger counts and pickup times\n",
        "\n"
      ]
    },
    {
      "cell_type": "markdown",
      "metadata": {
        "id": "wQAIQsrcLm6X"
      },
      "source": [
        "Additional analysis [optional]: Let's try comparing cases of low tips with cases of high tips to find out if we find a clear aspect that drives up the tipping behaviours"
      ]
    },
    {
      "cell_type": "code",
      "execution_count": null,
      "metadata": {
        "collapsed": true,
        "id": "QYoUed6Dn6YW"
      },
      "outputs": [],
      "source": [
        "# Compare trips with tip percentage < 10% to trips with tip percentage > 25%\n",
        "\n"
      ]
    },
    {
      "cell_type": "markdown",
      "metadata": {
        "id": "0UjvGTRKh6Gx"
      },
      "source": [
        "**3.2.14** <font color = red>[3 marks]</font> <br>\n",
        "Analyse the variation of passenger count across hours and days of the week."
      ]
    },
    {
      "cell_type": "code",
      "execution_count": null,
      "metadata": {
        "id": "rFP0DNRvh6Gx"
      },
      "outputs": [],
      "source": [
        "# See how passenger count varies across hours and days\n",
        "\n",
        "\n"
      ]
    },
    {
      "cell_type": "markdown",
      "metadata": {
        "id": "zWKLLlb7h6Gy"
      },
      "source": [
        "**3.2.15** <font color = red>[2 marks]</font> <br>\n",
        "Analyse the variation of passenger counts across zones"
      ]
    },
    {
      "cell_type": "code",
      "execution_count": null,
      "metadata": {
        "id": "30h27Uz2h6Gy"
      },
      "outputs": [],
      "source": [
        "# How does passenger count vary across zones\n",
        "\n"
      ]
    },
    {
      "cell_type": "code",
      "execution_count": null,
      "metadata": {
        "id": "C3I0AfOkvBWA"
      },
      "outputs": [],
      "source": [
        "# For a more detailed analysis, we can use the zones_with_trips GeoDataFrame\n",
        "# Create a new column for the average passenger count in each zone.\n",
        "\n"
      ]
    },
    {
      "cell_type": "markdown",
      "metadata": {
        "id": "rw0j5Z-1h6Gz"
      },
      "source": [
        "Find out how often surcharges/extra charges are applied to understand their prevalance"
      ]
    },
    {
      "cell_type": "markdown",
      "metadata": {
        "id": "x9IHjHFBx6Ye"
      },
      "source": [
        "**3.2.16** <font color = red>[5 marks]</font> <br>\n",
        "Analyse the pickup/dropoff zones or times when extra charges are applied more frequently"
      ]
    },
    {
      "cell_type": "code",
      "execution_count": null,
      "metadata": {
        "id": "nKbXwZJwh6Gz"
      },
      "outputs": [],
      "source": [
        "# How often is each surcharge applied?\n",
        "\n"
      ]
    },
    {
      "cell_type": "markdown",
      "metadata": {
        "id": "bkyc9q40Cts-"
      },
      "source": [
        "## **4** Conclusion\n",
        "<font color = red>[15 marks]</font> <br>"
      ]
    },
    {
      "cell_type": "markdown",
      "metadata": {
        "id": "Z5yCODI-C6yR"
      },
      "source": [
        "### **4.1** Final Insights and Recommendations\n",
        "<font color = red>[15 marks]</font> <br>\n",
        "\n",
        "Conclude your analyses here. Include all the outcomes you found based on the analysis.\n",
        "\n",
        "Based on the insights, frame a concluding story explaining suitable parameters such as location, time of the day, day of the week etc. to be kept in mind while devising a strategy to meet customer demand and optimise supply."
      ]
    },
    {
      "cell_type": "markdown",
      "metadata": {
        "id": "0dy8J-C8jJjk"
      },
      "source": [
        "**4.1.1** <font color = red>[5 marks]</font> <br>\n",
        "Recommendations to optimize routing and dispatching based on demand patterns and operational inefficiencies"
      ]
    },
    {
      "cell_type": "code",
      "execution_count": null,
      "metadata": {
        "id": "J03px17x_rD9"
      },
      "outputs": [],
      "source": []
    },
    {
      "cell_type": "markdown",
      "metadata": {
        "id": "AaLgTWxpjt7h"
      },
      "source": [
        "**4.1.2** <font color = red>[5 marks]</font> <br>\n",
        "\n",
        "Suggestions on strategically positioning cabs across different zones to make best use of insights uncovered by analysing trip trends across time, days and months."
      ]
    },
    {
      "cell_type": "code",
      "execution_count": null,
      "metadata": {
        "id": "c8ZbTIF7_rsN"
      },
      "outputs": [],
      "source": []
    },
    {
      "cell_type": "markdown",
      "metadata": {
        "id": "mUU4mn50jMZy"
      },
      "source": [
        "**4.1.3** <font color = red>[5 marks]</font> <br>\n",
        "Propose data-driven adjustments to the pricing strategy to maximize revenue while maintaining competitive rates with other vendors."
      ]
    },
    {
      "cell_type": "code",
      "execution_count": null,
      "metadata": {
        "id": "SXErHFjx_sGN"
      },
      "outputs": [],
      "source": []
    }
  ],
  "metadata": {
    "colab": {
      "collapsed_sections": [
        "x2hakCCy6wXI",
        "2jyQyYIpCztl",
        "23IqsgNjHNpJ",
        "CVXxcSYHj9sh",
        "Rv0oYLcbhOTU",
        "XBY2Y4Jrz9IQ",
        "nG77smP4tyWu",
        "M2o6xY0Yh6Gv",
        "bkyc9q40Cts-",
        "Z5yCODI-C6yR"
      ],
      "provenance": [],
      "include_colab_link": true
    },
    "kernelspec": {
      "display_name": "Python 3",
      "name": "python3"
    },
    "language_info": {
      "name": "python"
    }
  },
  "nbformat": 4,
  "nbformat_minor": 0
}